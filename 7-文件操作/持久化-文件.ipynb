{
 "cells": [
  {
   "cell_type": "markdown",
   "metadata": {},
   "source": [
    "# 文件\n",
    "- 长久保存信息的一种数据信息集合\n",
    "- 常用操作：\n",
    "   - 打开关闭 （文件一旦打开，需要关闭操作）\n",
    "   - 读写内容\n",
    "   - 查找\n",
    "   "
   ]
  },
  {
   "cell_type": "markdown",
   "metadata": {},
   "source": [
    " # open 函数\n",
    " - open函数负责打开文件，带有很多参数\n",
    " - 参数1- path： 文件路径和名称\n",
    " - 参数2-mode: 表明文件的打开方式\n",
    "    - r 只读\n",
    "    - w 写，会覆盖以前的内容。重写\n",
    "    - x 创建方式打开，如果文件已经存在，报错\n",
    "    - a append 方式打开，已追加的方式对文件进行写入\n",
    "    - b: binary 二进制方式写入\n",
    "    - t：文本方式打开\n",
    "    - +：可读写\n",
    "  "
   ]
  },
  {
   "cell_type": "code",
   "execution_count": 1,
   "metadata": {},
   "outputs": [],
   "source": [
    "# 打开文件 写的方式 open\n",
    "#  r表示字符串内容不需要转义\n",
    "# f 称之为 文件句柄\n",
    "f = open(r\"test01.txt\",'w')\n",
    "\n",
    "# 文件打开后必须关闭\n",
    "f.close()\n",
    "\n",
    "# 此案例说明，以写的方式打开文的时候，如果没有该文件，则新建该文件"
   ]
  },
  {
   "cell_type": "markdown",
   "metadata": {},
   "source": [
    "## with 语句\n",
    "- with 语句使用的技术，是一种上下文管理协议的技术 （ContextManagement）\n",
    "- 自动判断文件的作用域，自动关闭不再使用的已打开的文件句柄\n"
   ]
  },
  {
   "cell_type": "code",
   "execution_count": 2,
   "metadata": {},
   "outputs": [],
   "source": [
    "# with 案例\n",
    "with open('test01.txt','r') as f:\n",
    "    pass\n",
    "# 下面语句块开始，对文件进行操作"
   ]
  },
  {
   "cell_type": "code",
   "execution_count": 3,
   "metadata": {},
   "outputs": [
    {
     "name": "stdout",
     "output_type": "stream",
     "text": [
      "- r 只读\n",
      "\n",
      "- w 写，会覆盖以前的内容。重写\n",
      "\n",
      "- x 创建方式打开，如果文件已经存在，报错\n",
      "\n",
      "- a append 方式打开，已追加的方式对文件进行写入\n",
      "\n",
      "- b: binary 二进制方式写入\n",
      "\n",
      "- t：文本方式打开\n",
      "\n",
      "- +：可读写\n",
      "\n",
      "  \n"
     ]
    }
   ],
   "source": [
    "# with 案例2\n",
    "with open(r\"test01.txt\",'r') as f:\n",
    "#     按照行读取内容\n",
    "    s1 = f.readline()\n",
    "    while s1:\n",
    "        print(s1)\n",
    "        s1 = f.readline()\n",
    "#     次结构能够保证完整读取文件直到结束"
   ]
  },
  {
   "cell_type": "code",
   "execution_count": 6,
   "metadata": {},
   "outputs": [
    {
     "name": "stdout",
     "output_type": "stream",
     "text": [
      "- r 只读\n",
      "\n",
      "- w 写，会覆盖以前的内容。重写\n",
      "\n",
      "- x 创建方式打开，如果文件已经存在，报错\n",
      "\n",
      "- a append 方式打开，已追加的方式对文件进行写入\n",
      "\n",
      "- b: binary 二进制方式写入\n",
      "\n",
      "- t：文本方式打开\n",
      "\n",
      "- +：可读写\n",
      "\n",
      "  \n"
     ]
    }
   ],
   "source": [
    "# list能用打开的文件作为参数，把文件的每一行内容作为一个元素\n",
    "with open(r'test01.txt','r') as f:\n",
    "    l = list(f)\n",
    "    for i in l:\n",
    "        print(i)"
   ]
  },
  {
   "cell_type": "code",
   "execution_count": 11,
   "metadata": {},
   "outputs": [
    {
     "name": "stdout",
     "output_type": "stream",
     "text": [
      "- r 只读\n",
      "- w\n",
      "10\n"
     ]
    }
   ],
   "source": [
    "# read 按照字符读取文件内容\n",
    "# 允许输入参数决定读取几个字符，如果没有指定，从当前位置读取到结尾\n",
    "# 否则，从当前位置读取到指定个数字符\n",
    "\n",
    "with open(r'test01.txt', 'r') as f:\n",
    "    strChar = f.read(10)\n",
    "    print(strChar)\n",
    "    print(len(strChar))"
   ]
  },
  {
   "cell_type": "markdown",
   "metadata": {},
   "source": [
    "---\n",
    "## seek (offset，from )\n",
    "- 移动文件的读取位置，也叫读取指针\n",
    "- from的取值范围\n",
    "   - 0：文件开头开始偏移\n",
    "   - 1：从文件当前文件开始偏移\n",
    "   - 2 ：从文件尾开始偏移\n",
    "   \n",
    "- 移动的单位是字节（byte）\n",
    "- 一个汉字幽若干个字节构成\n",
    "- 返回文件指针的当前位置\n"
   ]
  },
  {
   "cell_type": "code",
   "execution_count": 15,
   "metadata": {},
   "outputs": [
    {
     "name": "stdout",
     "output_type": "stream",
     "text": [
      "读\n",
      "- w 写，会覆盖以前的内容。重写\n",
      "- x 创建方式打开，如果文件已经存在，报错\n",
      "- a append 方式打开，已追加的方式对文件进行写入\n",
      "- b: binary 二进制方式写入\n",
      "- t：文本方式打开\n",
      "- +：可读写\n",
      "  \n"
     ]
    }
   ],
   "source": [
    "# seek 案例\n",
    "# 打开文件后 从第五个开始读取\n",
    "\n",
    "# 打开后读写指针在0处，即 文件的开头\n",
    "with open(r'test01.txt','r') as f:\n",
    "    f.seek(7,0)\n",
    "    strChar = f.read()\n",
    "    print(strChar)"
   ]
  },
  {
   "cell_type": "code",
   "execution_count": 17,
   "metadata": {},
   "outputs": [
    {
     "name": "stdout",
     "output_type": "stream",
     "text": [
      "假若他\n",
      "日相逢\n",
      "\n",
      "我将\n",
      "何以贺\n",
      "你\n",
      "以\n",
      "眼泪\n",
      "\n",
      "以沉默\n"
     ]
    }
   ],
   "source": [
    "# 读取文件的联系\n",
    "# 打开文件，三个字符一组读取内容，然后显示在屏幕上\n",
    "# 每读取一秒钟，休息一秒钟\n",
    "\n",
    "import time\n",
    "\n",
    "with open('test02.txt','r') as f:\n",
    "    \n",
    "    s = f.read(3)\n",
    "    while s:\n",
    "        print(s)\n",
    "        time.sleep(1)\n",
    "        s = f.read(3)"
   ]
  },
  {
   "cell_type": "code",
   "execution_count": 19,
   "metadata": {},
   "outputs": [
    {
     "name": "stdout",
     "output_type": "stream",
     "text": [
      "9\n",
      "假若他\n",
      "18\n",
      "日相逢\n",
      "25\n",
      "\n",
      "我将\n",
      "34\n",
      "何以贺\n",
      "41\n",
      "你\n",
      "以\n",
      "48\n",
      "眼泪\n",
      "\n",
      "57\n",
      "以沉默\n"
     ]
    }
   ],
   "source": [
    "# tell 函数，用来显示文件读写指正的当前位置：\n",
    "with open(r'test02.txt','r') as f:\n",
    "    s2 = f.read(3)\n",
    "    pos = f.tell()\n",
    "    while s2:\n",
    "        print(pos)\n",
    "        print(s2)\n",
    "        \n",
    "        s2 = f.read(3)\n",
    "        pos = f.tell()\n",
    "\n",
    "#  以下结果说明，\n",
    "# tell 的返数字的单位是byte\n",
    "# read是以字符为单位的"
   ]
  },
  {
   "cell_type": "markdown",
   "metadata": {},
   "source": [
    "### 文件的写操作 -write\n",
    "- write(str): 把文件写入文件\n",
    "- writeline(str):把字符串按行写入\n",
    "- 区别：\n",
    "   - write函数参数只能是字符串\n",
    "   - writelines 是字符串或者字符串序列"
   ]
  },
  {
   "cell_type": "code",
   "execution_count": 21,
   "metadata": {},
   "outputs": [],
   "source": [
    "# write 案例\n",
    "# 文件中追加一行诗句\n",
    "\n",
    "with open(r'test02.txt','a') as f:\n",
    "    f.write(\"\\n生活不仅有眼前的苟且，\\n 还有远方的苟且\")"
   ]
  },
  {
   "cell_type": "code",
   "execution_count": 24,
   "metadata": {},
   "outputs": [],
   "source": [
    "# writelines 案例\n",
    "# writelines表示可以写入很多行，参数可以是list格式\n",
    "\n",
    "# a代表追加的方式写入\n",
    "with open(r'test02.txt','a') as f:\n",
    "    f.writelines(\"\\n还有远方的田野\")\n",
    "    \n",
    "    l = ['crystal&marlon']\n",
    "    f.writelines(l)"
   ]
  },
  {
   "cell_type": "markdown",
   "metadata": {},
   "source": [
    "---\n",
    "## 持久化 - pickle\n",
    "- 序列化：把程序运行中的信息保存在磁盘上\n",
    "- 反序列化：把硬盘中的信息读取到你内存中\n",
    "\n",
    "- pickle ：python提供的序列化模块\n",
    "   - pickle.dump() :序列化\n",
    "   - pickle.load() ：反序列化"
   ]
  },
  {
   "cell_type": "code",
   "execution_count": 56,
   "metadata": {},
   "outputs": [],
   "source": [
    "# 序列化案例\n",
    "import pickle\n",
    "obj = ['foo', {'bar': ('baz', None, 1.0, 2)}]\n",
    "age= 18\n",
    "with open(r'test03.txt','wb') as f:\n",
    "    pickle.dump(age,f)"
   ]
  },
  {
   "cell_type": "code",
   "execution_count": 57,
   "metadata": {
    "scrolled": true
   },
   "outputs": [
    {
     "name": "stdout",
     "output_type": "stream",
     "text": [
      "18\n"
     ]
    }
   ],
   "source": [
    "# 反序列化\n",
    "with open(r'test03.txt', 'rb') as f:\n",
    "    s = pickle.load(f)\n",
    "    print(s)"
   ]
  },
  {
   "cell_type": "markdown",
   "metadata": {},
   "source": [
    "## 持久化-shelve\n",
    "- 持久化工具\n",
    "- 类似字典，用kv保存数据，存取方式跟字典也相近\n",
    "- open，close"
   ]
  },
  {
   "cell_type": "code",
   "execution_count": 58,
   "metadata": {},
   "outputs": [],
   "source": [
    "import shelve\n",
    "\n",
    "# 打开文件，shv相当于一个字典\n",
    "shv = shelve.open(r'shv.db')\n",
    "\n",
    "shv['one'] = 1\n",
    "shv['two'] = 2\n",
    "shv['three'] = 3\n",
    "\n",
    "shv.close()\n",
    "# 通过上述案例发现，shelve自动创建的不仅仅是一个shv.db文化，还包括其他文件格式"
   ]
  },
  {
   "cell_type": "code",
   "execution_count": 62,
   "metadata": {},
   "outputs": [
    {
     "name": "stdout",
     "output_type": "stream",
     "text": [
      "1\n",
      "invalid operation on closed shelf\n"
     ]
    }
   ],
   "source": [
    "# 读取shelve文件\n",
    "\n",
    "shv = shelve.open(r'shv.db')\n",
    "\n",
    "print(shv['one'])\n",
    "\n",
    "shv.close()\n",
    "\n",
    "try:\n",
    "    print(shv['three'])\n",
    "    print(shv['twoo'])\n",
    "except Exception as e:\n",
    "    print(e)\n",
    "finally:\n",
    "    shv.close()"
   ]
  },
  {
   "cell_type": "markdown",
   "metadata": {},
   "source": [
    "### shelve特行\n",
    "- 不支持多个应用并行写入\n",
    "   - 为了解决这个问题，open 的时候可以使用flag= r\n",
    "- 写回问题\n",
    "   - shelve"
   ]
  },
  {
   "cell_type": "code",
   "execution_count": null,
   "metadata": {},
   "outputs": [],
   "source": [
    "shv = shelve.open(r'shv.db',flag=r)\n"
   ]
  }
 ],
 "metadata": {
  "kernelspec": {
   "display_name": "Python 3",
   "language": "python",
   "name": "python3"
  },
  "language_info": {
   "codemirror_mode": {
    "name": "ipython",
    "version": 3
   },
   "file_extension": ".py",
   "mimetype": "text/x-python",
   "name": "python",
   "nbconvert_exporter": "python",
   "pygments_lexer": "ipython3",
   "version": "3.6.5"
  }
 },
 "nbformat": 4,
 "nbformat_minor": 2
}
