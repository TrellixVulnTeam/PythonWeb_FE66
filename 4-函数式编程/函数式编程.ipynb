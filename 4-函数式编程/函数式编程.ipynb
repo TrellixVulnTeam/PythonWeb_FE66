{
 "cells": [
  {
   "cell_type": "markdown",
   "metadata": {},
   "source": [
    "# 补充- log 模块\n",
    "http://www.cnblogs.com/yyds/p/6901864.html"
   ]
  },
  {
   "cell_type": "markdown",
   "metadata": {},
   "source": [
    "# Python 语音的高级特性\n",
    "\n",
    "##   函数式编程 （FunctionalProgramming）\n",
    " - 基于lambda 验演算的编程方式\n",
    "      - 程序中只有函数\n",
    "      - 函数可以作为参数，同样可以作为返回值\n",
    "      - 纯函数式编程，LISP和Haskell         \n",
    "     \n",
    "- Python函数式编程只是借鉴函数式编程的一些特点，可以理解成一半函数，一半Python\n",
    "- 需要讲述的内容：\n",
    "     - 高阶函数\n",
    "     - 返回函数\n",
    "     - 匿名函数\n",
    "     - 装饰器\n",
    "     - 偏函数"
   ]
  },
  {
   "cell_type": "markdown",
   "metadata": {},
   "source": [
    "### lambda 表达式\n",
    " - 函数：最大程度复用代码\n",
    "    - 存在问题：如果函数很小，很短，则会造成啰嗦\n",
    "    - 如果函数被调用次数少，则会造成浪费\n",
    "    - 对与阅读者来说，造成阅读流程的被迫中断\n",
    "\n",
    "- lambda 表达式（匿名函数）\n",
    "    - 一个表达式，函数体相对简单\n",
    "    - 不是一个代码块，仅仅是一个表达式\n",
    "    - 可以有参数，有多个参数，参数用逗号隔开。"
   ]
  },
  {
   "cell_type": "code",
   "execution_count": 1,
   "metadata": {},
   "outputs": [
    {
     "data": {
      "text/plain": [
       "5600"
      ]
     },
     "execution_count": 1,
     "metadata": {},
     "output_type": "execute_result"
    }
   ],
   "source": [
    "# lamdba \n",
    "# 1 以lambda开头\n",
    "# 2 紧跟一定的参数\n",
    "# 3 参数有用冒号和表达式主体分开\n",
    "# 4 只是一个表达式所以，没有return\n",
    "\n",
    "# 计算一个数字的100倍\n",
    "stm = lambda x: 100 * x\n",
    "stm(56)"
   ]
  },
  {
   "cell_type": "code",
   "execution_count": 2,
   "metadata": {},
   "outputs": [
    {
     "data": {
      "text/plain": [
       "654"
      ]
     },
     "execution_count": 2,
     "metadata": {},
     "output_type": "execute_result"
    }
   ],
   "source": [
    "# 多参数\n",
    "stm2 = lambda x,y,z:x+y*10 + z*100\n",
    "stm2(4,5,6)"
   ]
  },
  {
   "cell_type": "markdown",
   "metadata": {},
   "source": [
    "### 高阶函数\n",
    "- 把函数作为参数使用的函数，叫做高阶函数\n",
    "- "
   ]
  },
  {
   "cell_type": "code",
   "execution_count": 3,
   "metadata": {},
   "outputs": [],
   "source": [
    "# 变量可以赋值\n",
    "a = 100\n",
    "b = a"
   ]
  },
  {
   "cell_type": "code",
   "execution_count": 4,
   "metadata": {},
   "outputs": [
    {
     "name": "stdout",
     "output_type": "stream",
     "text": [
      "In funcA\n"
     ]
    }
   ],
   "source": [
    "# 函数名称就是一个变量\n",
    "def funA():\n",
    "    print(\"In funcA\")\n",
    "    \n",
    "funB = funA\n",
    "funB()"
   ]
  },
  {
   "cell_type": "markdown",
   "metadata": {},
   "source": [
    "### 以上代码得出的结论：\n",
    "- 函数名称就是变量\n",
    "- funB和funA只是名称不一样\n",
    "- 既然函数名称是变量，就可以当做参数传递"
   ]
  },
  {
   "cell_type": "code",
   "execution_count": 5,
   "metadata": {},
   "outputs": [
    {
     "name": "stdout",
     "output_type": "stream",
     "text": [
      "2700\n",
      "2700\n",
      "270\n"
     ]
    }
   ],
   "source": [
    "# 高阶函数举例\n",
    "def funA(n):\n",
    "    return 100 * n\n",
    "\n",
    "# 再写一个函数，吧传入的参数乘以300，利用高阶函数\n",
    "def funB(n):\n",
    "    return funA(n) * 3\n",
    "\n",
    "r = funB(9)\n",
    "print(r)\n",
    "\n",
    "# 利用高阶函数来实现\n",
    "def funC(n,f):\n",
    "    return f(n) * 3\n",
    "\n",
    "r = funC(9,funA)\n",
    "print(r)\n",
    "\n",
    "# 比较 funC和funB，显然funC比funB更好，更加灵活和定制化\n",
    "\n",
    "def funD(n):\n",
    "    return n * 10\n",
    "\n",
    "# 需求变更，需要把n放大 10倍，此时funB无法实现\n",
    "\n",
    "print(funC(9,funD))"
   ]
  },
  {
   "cell_type": "markdown",
   "metadata": {},
   "source": [
    "# Python 内置的高阶函数\n",
    "\n",
    "## map 映射的意思\n",
    "    - 原来的意思就是映射，即把集合或者列表的元素，每个元素都按照一定的规则进行操作，生产一个新的列表或者集合\n",
    "    - map函数是系统提供的具有映射功能的函数，返回值是一个迭代对象"
   ]
  },
  {
   "cell_type": "code",
   "execution_count": 13,
   "metadata": {},
   "outputs": [
    {
     "name": "stdout",
     "output_type": "stream",
     "text": [
      "[0, 1, 2, 3, 4, 5, 6, 7, 8, 9]\n",
      "[0, 10, 20, 30, 40, 50, 60, 70, 80, 90]\n",
      "<class 'map'>\n",
      "<map object at 0x10a5eecc0>\n",
      "0\n",
      "10\n",
      "20\n",
      "30\n",
      "40\n",
      "50\n",
      "60\n",
      "70\n",
      "80\n",
      "90\n",
      "[]\n",
      "[]\n"
     ]
    }
   ],
   "source": [
    "# map举例子\n",
    "# 需求：有一个列表，想对列表中的每个数乘以10\n",
    "\n",
    "# 普通方法\n",
    "l1 = [i for i in range(10)]\n",
    "print(l1)\n",
    "l2 = []\n",
    "for i in l1:\n",
    "    l2.append(i*10)\n",
    "print(l2)\n",
    "\n",
    "# map实现\n",
    "def mul_ten(n):\n",
    "    return n *10\n",
    "\n",
    "l3 = map(mul_ten,l1)\n",
    "\n",
    "# 注意，这里返回值的是map对象\n",
    "print(type(l3))\n",
    "print(l3)\n",
    "\n",
    "for i in l3:\n",
    "    print(i)\n",
    "    \n",
    "#     \n",
    "l4 = [i for i in l3]\n",
    "print(l4)\n",
    "# import numpy as np\n",
    "# print(np.array(list(l3)))"
   ]
  },
  {
   "cell_type": "markdown",
   "metadata": {},
   "source": [
    "### Reduce \n",
    "- 原意是归并，缩减\n",
    "- 把一个可迭代对象最后归并成一个结果\n",
    "- 对与函数参数要求：必须由两个参数，必须返回结果\n",
    "- reduce 需要导入functools包"
   ]
  },
  {
   "cell_type": "code",
   "execution_count": 7,
   "metadata": {},
   "outputs": [
    {
     "data": {
      "text/plain": [
       "15"
      ]
     },
     "execution_count": 7,
     "metadata": {},
     "output_type": "execute_result"
    }
   ],
   "source": [
    "# reduce 举例\n",
    "# 需求  reduce([1,2,3,4,5]) == f(f(f(f(1,2),3),4),5)\n",
    "from functools import reduce\n",
    "\n",
    "def add(x,y):\n",
    "    return x+y\n",
    "\n",
    "#  对与列表执行reduce操作\n",
    "reduce(add,[1,2,3,4,5])"
   ]
  },
  {
   "cell_type": "markdown",
   "metadata": {},
   "source": [
    "### filter 函数\n",
    "---\n",
    "- 过滤函数：对一组数据进行过滤，符合条件的数据会生产一个新的列表并返回\n",
    "- 跟map比较：\n",
    "   - 相同：对列表中每一个元素逐一进行操作\n",
    "   - 不同:\n",
    "      - map会生成一个跟原来数据对应的新队列\n",
    "      - filter不一定，只有符合条件的才会进行新队列\n",
    "- filter写法：\n",
    "   - 利用给定函数进行判断\n",
    "   - 返回值一定是布尔值\n",
    "   - 返回格式：filter(f,data）"
   ]
  },
  {
   "cell_type": "code",
   "execution_count": 10,
   "metadata": {},
   "outputs": [
    {
     "name": "stdout",
     "output_type": "stream",
     "text": [
      "<filter object at 0x10a5e5128>\n",
      "[2, 4, 6, 8, 34, 54, 6, 324]\n"
     ]
    }
   ],
   "source": [
    "# filter 案例\n",
    "\n",
    "def isEven(a):\n",
    "    return a%2 == 0\n",
    "\n",
    "l = [1,2,3,4,5,6,7,8,34,54,6,324]\n",
    "\n",
    "ret = filter(isEven,l)\n",
    "print(ret)\n",
    "retL = list(ret)\n",
    "print(retL)"
   ]
  },
  {
   "cell_type": "markdown",
   "metadata": {},
   "source": [
    "### 高阶函数 - 排序\n",
    "- 把一个序列，按照给定的算法进行排序\n",
    "- key：在排序前对每一个元素进行key函数运算，可以理解成按照key函数定义的逻辑进行排序\n",
    "- python2和3相差很大\n"
   ]
  },
  {
   "cell_type": "code",
   "execution_count": 16,
   "metadata": {},
   "outputs": [
    {
     "name": "stdout",
     "output_type": "stream",
     "text": [
      "[2, 2, 3, 3, 4, 5, 12, 12, 45, 54, 67, 125, 423]\n",
      "[423, 125, 67, 54, 45, 12, 12, 5, 4, 3, 3, 2, 2]\n"
     ]
    }
   ],
   "source": [
    "# 排序案例 1\n",
    "a  = [ 2,3,12,4,423,54,12,5,45,67,3,2,125]\n",
    "al = sorted(a)\n",
    "print(al)\n",
    "\n",
    "a2 = sorted(a,reverse=True)\n",
    "print(a2)"
   ]
  },
  {
   "cell_type": "code",
   "execution_count": 17,
   "metadata": {},
   "outputs": [
    {
     "name": "stdout",
     "output_type": "stream",
     "text": [
      "[-4324, 45, -43, 23, -23, 6, 2]\n"
     ]
    }
   ],
   "source": [
    "# 排序案例2\n",
    "a = [-43,23,45,6,-23,2,-4324]\n",
    "# 按照绝对值大小排序,倒序\n",
    "a3 = sorted(a,key=abs,reverse=True)\n",
    "print(a3)"
   ]
  },
  {
   "cell_type": "code",
   "execution_count": 19,
   "metadata": {},
   "outputs": [
    {
     "name": "stdout",
     "output_type": "stream",
     "text": [
      "['Dd', 'Xman', 'dasd', 'jinjing', 'mom']\n",
      "['dasd', 'Dd', 'jinjing', 'mom', 'Xman']\n"
     ]
    }
   ],
   "source": [
    "# 排序案例 3\n",
    "astr = ['dasd','Dd','mom','Xman','jinjing']\n",
    "a4 = sorted(astr)\n",
    "print(a4)\n",
    "a5 = sorted(astr,key=str.lower)\n",
    "print(a5)"
   ]
  },
  {
   "cell_type": "markdown",
   "metadata": {},
   "source": [
    "## 返回函数\n",
    "- 函数是可以返回具体的值\n",
    "- 也可以返回一个函数作为结束"
   ]
  },
  {
   "cell_type": "code",
   "execution_count": 20,
   "metadata": {},
   "outputs": [
    {
     "name": "stdout",
     "output_type": "stream",
     "text": [
      "In myF\n",
      "None\n"
     ]
    }
   ],
   "source": [
    "# 定义一个普通的函数\n",
    "def myF(a):\n",
    "    print(\"In myF\")\n",
    "    return None\n",
    "\n",
    "a = myF(8)\n",
    "print(a)"
   ]
  },
  {
   "cell_type": "code",
   "execution_count": 24,
   "metadata": {},
   "outputs": [
    {
     "name": "stdout",
     "output_type": "stream",
     "text": [
      "<class 'function'>\n",
      "<function myF2.<locals>.myF3 at 0x10b817d90>\n",
      "In myF3\n",
      "In myF3\n"
     ]
    },
    {
     "data": {
      "text/plain": [
       "3"
      ]
     },
     "execution_count": 24,
     "metadata": {},
     "output_type": "execute_result"
    }
   ],
   "source": [
    "# 函数作为返回值返回，被返回的函数在函数体内定义\n",
    "\n",
    "def myF2():\n",
    "        def myF3():\n",
    "            print(\"In myF3\")\n",
    "            return 3\n",
    "        return myF3\n",
    "    \n",
    "# 使用的时候\n",
    "f3 = myF2()\n",
    "print(type(f3))\n",
    "print(f3)\n",
    "\n",
    "myF2()()\n",
    "f3()"
   ]
  },
  {
   "cell_type": "code",
   "execution_count": 26,
   "metadata": {},
   "outputs": [
    {
     "name": "stdout",
     "output_type": "stream",
     "text": [
      "<function myF4.<locals>.myF5 at 0x10b8178c8>\n"
     ]
    },
    {
     "data": {
      "text/plain": [
       "10"
      ]
     },
     "execution_count": 26,
     "metadata": {},
     "output_type": "execute_result"
    }
   ],
   "source": [
    "# 复杂案例\n",
    "# args 参数列表\n",
    "\n",
    "def myF4(*args):\n",
    "    def myF5():\n",
    "        rst = 0\n",
    "        for n in args:\n",
    "            rst += n\n",
    "        return rst\n",
    "    return myF5\n",
    "\n",
    "\n",
    "f4 = myF4(1,2,3,4)\n",
    "print(f4)\n",
    "f4()"
   ]
  },
  {
   "cell_type": "markdown",
   "metadata": {},
   "source": [
    "## 闭包 （closure）\n",
    "- 当一个函数在内部定义函数，并且内部的函数应用外部的参数，或者局部变量，当内部函数被当做返回值的时候，相关参数和和变量保存在返回的函数中，这种结构叫做闭包\n",
    "- 上面定义的myF4是一个标准的闭包结构"
   ]
  },
  {
   "cell_type": "code",
   "execution_count": 29,
   "metadata": {},
   "outputs": [
    {
     "name": "stdout",
     "output_type": "stream",
     "text": [
      "9\n",
      "9\n",
      "9\n"
     ]
    }
   ],
   "source": [
    "# 闭包常见的坑\n",
    "def count():\n",
    "#     定义列表，列表中存放的是定义的函数\n",
    "    fs = []\n",
    "    for i in range(1,4):\n",
    "        def f():\n",
    "            return i * i\n",
    "        fs.append(f)\n",
    "    return fs\n",
    "\n",
    "f1,f2,f3 = count()\n",
    "\n",
    "print(f1())\n",
    "print(f2())\n",
    "print(f3())"
   ]
  },
  {
   "cell_type": "markdown",
   "metadata": {},
   "source": [
    "## 上述的闭包坑的解释:\n",
    "- 期待 1 4 9，但是返回了9 9 9 \n",
    "- 返回函数中引用了变量 i,但是 i 并非 立即执行，而是等到最终调用的时候才使用i,此时i= 3了\n",
    "- 此问题的描述成，返回闭包时候，返回函数不能引用任何循环变量\n",
    "- 解决方案，在创建一个函数，用该函数的参数绑定循环变量的当前值，无论循环变量以后如何改变，已经绑定的函数参数值不在改变"
   ]
  },
  {
   "cell_type": "code",
   "execution_count": 30,
   "metadata": {},
   "outputs": [
    {
     "name": "stdout",
     "output_type": "stream",
     "text": [
      "1\n",
      "4\n",
      "9\n"
     ]
    }
   ],
   "source": [
    "# 修改函数\n",
    "\n",
    "def count1():\n",
    "    def f(j):\n",
    "        def g():\n",
    "            return j * j\n",
    "        return g\n",
    "    \n",
    "    fs = []\n",
    "    for i in range(1,4):\n",
    "        fs.append(f(i))\n",
    "    return fs\n",
    "\n",
    "f1,f2,f3 = count1()\n",
    "print(f1())\n",
    "print(f2())\n",
    "print(f3())\n",
    "    "
   ]
  },
  {
   "cell_type": "markdown",
   "metadata": {},
   "source": [
    "### 装饰器 （Decrator）\n",
    "- 在不改动函数代码的基础上无限制扩展函数功能的一种机制，本质上装饰器是一个返回函数的高阶函数\n",
    "- 装饰器的使用，使用@语法，机子啊每次要扩展的函数定义前，使用@+函数名\n",
    "---"
   ]
  },
  {
   "cell_type": "code",
   "execution_count": 31,
   "metadata": {},
   "outputs": [
    {
     "name": "stdout",
     "output_type": "stream",
     "text": [
      "Hello World\n"
     ]
    }
   ],
   "source": [
    "def hello():\n",
    "    print(\"Hello World\")\n",
    "hello()"
   ]
  },
  {
   "cell_type": "code",
   "execution_count": 32,
   "metadata": {},
   "outputs": [
    {
     "name": "stdout",
     "output_type": "stream",
     "text": [
      "Hello World\n"
     ]
    }
   ],
   "source": [
    "f = hello\n",
    "f()"
   ]
  },
  {
   "cell_type": "code",
   "execution_count": 33,
   "metadata": {},
   "outputs": [
    {
     "name": "stdout",
     "output_type": "stream",
     "text": [
      "0\n"
     ]
    }
   ],
   "source": [
    "# 证明 f 和hello是一个函数\n",
    "print(id(f)-id(hello))"
   ]
  },
  {
   "cell_type": "code",
   "execution_count": 35,
   "metadata": {},
   "outputs": [
    {
     "name": "stdout",
     "output_type": "stream",
     "text": [
      "hello\n",
      "hello\n"
     ]
    }
   ],
   "source": [
    "print(f.__name__)\n",
    "print(hello.__name__)"
   ]
  },
  {
   "cell_type": "code",
   "execution_count": 36,
   "metadata": {},
   "outputs": [],
   "source": [
    "# 需求，对hello进行扩展。在调用hello之前，打印一下调用的时间，但是不能改动 hello的函数\n",
    "# 使用装饰器\n",
    "# \n",
    "import time \n",
    "\n",
    "def print_time(f):\n",
    "    def wrapper(*args,**kwargs):\n",
    "        print(\"Time:\",time.ctime())\n",
    "        return f(*args,**kwargs)\n",
    "    return wrapper"
   ]
  },
  {
   "cell_type": "code",
   "execution_count": 37,
   "metadata": {},
   "outputs": [
    {
     "name": "stdout",
     "output_type": "stream",
     "text": [
      "Time: Thu Nov 29 13:49:42 2018\n",
      "Hello world\n"
     ]
    }
   ],
   "source": [
    "# 使用 需要用到@符号\n",
    "@print_time\n",
    "def hello():\n",
    "    print(\"Hello world\")\n",
    "\n",
    "hello()"
   ]
  },
  {
   "cell_type": "code",
   "execution_count": 40,
   "metadata": {},
   "outputs": [
    {
     "name": "stdout",
     "output_type": "stream",
     "text": [
      "Time: Thu Nov 29 13:51:49 2018\n",
      "今天天气不错啊\n"
     ]
    }
   ],
   "source": [
    "# 装饰器的好处，一点定义，则可以装饰任何函数\n",
    "# 一旦被I其装饰，则把装饰器的功能直接添加到定义函数的功能上了\n",
    "\n",
    "@print_time\n",
    "def hello2():\n",
    "    print(\"今天天气不错啊\")\n",
    "\n",
    "hello2()"
   ]
  },
  {
   "cell_type": "code",
   "execution_count": 43,
   "metadata": {},
   "outputs": [
    {
     "name": "stdout",
     "output_type": "stream",
     "text": [
      "Time: Thu Nov 29 13:53:11 2018\n",
      "Time: Thu Nov 29 13:53:11 2018\n",
      "今天天气不错啊\n"
     ]
    }
   ],
   "source": [
    "#  手动调用装饰器\n",
    "h = print_time(hello2)\n",
    "h()"
   ]
  },
  {
   "cell_type": "markdown",
   "metadata": {},
   "source": [
    "### 偏函数 \n",
    "- 参数固定的函数，相当于有一个特定参数的函数体\n",
    "- funtools.partial 的作用是，把某些函数固定下来，返回一个新函数"
   ]
  },
  {
   "cell_type": "code",
   "execution_count": 47,
   "metadata": {},
   "outputs": [
    {
     "data": {
      "text/plain": [
       "5349"
      ]
     },
     "execution_count": 47,
     "metadata": {},
     "output_type": "execute_result"
    }
   ],
   "source": [
    "int('12345')\n",
    "# help(int)\n",
    "\n",
    "# 求八进制的字符串12345，表示成十进制的数字\n",
    "int('12345',base=8)"
   ]
  },
  {
   "cell_type": "code",
   "execution_count": 48,
   "metadata": {},
   "outputs": [
    {
     "data": {
      "text/plain": [
       "74565"
      ]
     },
     "execution_count": 48,
     "metadata": {},
     "output_type": "execute_result"
    }
   ],
   "source": [
    "# 新建一个函数，此函数是默认输入的字符串是16进制的数字\n",
    "# 把次字符串返回十进制的数字\n",
    "def int16(x,base=16):\n",
    "    return int(x,base)\n",
    "\n",
    "int16(\"12345\")"
   ]
  },
  {
   "cell_type": "code",
   "execution_count": 49,
   "metadata": {},
   "outputs": [
    {
     "data": {
      "text/plain": [
       "1193046"
      ]
     },
     "execution_count": 49,
     "metadata": {},
     "output_type": "execute_result"
    }
   ],
   "source": [
    "import functools\n",
    "\n",
    "int16 = functools.partial(int,base=16)\n",
    "int16(\"123456\")"
   ]
  },
  {
   "cell_type": "code",
   "execution_count": null,
   "metadata": {},
   "outputs": [],
   "source": []
  }
 ],
 "metadata": {
  "kernelspec": {
   "display_name": "Python 3",
   "language": "python",
   "name": "python3"
  },
  "language_info": {
   "codemirror_mode": {
    "name": "ipython",
    "version": 3
   },
   "file_extension": ".py",
   "mimetype": "text/x-python",
   "name": "python",
   "nbconvert_exporter": "python",
   "pygments_lexer": "ipython3",
   "version": "3.6.5"
  }
 },
 "nbformat": 4,
 "nbformat_minor": 2
}
