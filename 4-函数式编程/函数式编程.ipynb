{
 "cells": [
  {
   "cell_type": "markdown",
   "metadata": {},
   "source": [
    "# 补充- log 模块\n",
    "http://www.cnblogs.com/yyds/p/6901864.html"
   ]
  },
  {
   "cell_type": "markdown",
   "metadata": {},
   "source": [
    "# Python 语音的高级特性\n",
    "\n",
    "##   函数式编程 （FunctionalProgramming）\n",
    " - 基于lambda 验演算的编程方式\n",
    "      - 程序中只有函数\n",
    "      - 函数可以作为参数，同样可以作为返回值\n",
    "      - 纯函数式编程，LISP和Haskell         \n",
    "     \n",
    "- Python函数式编程只是借鉴函数式编程的一些特点，可以理解成一半函数，一半Python\n",
    "- 需要讲述的内容：\n",
    "     - 高阶函数\n",
    "     - 返回函数\n",
    "     - 匿名函数\n",
    "     - 装饰器\n",
    "     - 偏函数"
   ]
  },
  {
   "cell_type": "markdown",
   "metadata": {},
   "source": [
    "### lambda 表达式\n",
    " - 函数：最大程度复用代码\n",
    "    - 存在问题：如果函数很小，很短，则会造成啰嗦\n",
    "    - 如果函数被调用次数少，则会造成浪费\n",
    "    - 对与阅读者来说，造成阅读流程的被迫中断\n",
    "\n",
    "- lambda 表达式（匿名函数）\n",
    "    - 一个表达式，函数体相对简单\n",
    "    - 不是一个代码块，仅仅是一个表达式\n",
    "    - 可以有参数，有多个参数，参数用逗号隔开。"
   ]
  },
  {
   "cell_type": "code",
   "execution_count": 1,
   "metadata": {},
   "outputs": [
    {
     "data": {
      "text/plain": [
       "5600"
      ]
     },
     "execution_count": 1,
     "metadata": {},
     "output_type": "execute_result"
    }
   ],
   "source": [
    "# lamdba \n",
    "# 1 以lambda开头\n",
    "# 2 紧跟一定的参数\n",
    "# 3 参数有用冒号和表达式主体分开\n",
    "# 4 只是一个表达式所以，没有return\n",
    "\n",
    "# 计算一个数字的100倍\n",
    "stm = lambda x: 100 * x\n",
    "stm(56)"
   ]
  },
  {
   "cell_type": "code",
   "execution_count": 2,
   "metadata": {},
   "outputs": [
    {
     "data": {
      "text/plain": [
       "654"
      ]
     },
     "execution_count": 2,
     "metadata": {},
     "output_type": "execute_result"
    }
   ],
   "source": [
    "# 多参数\n",
    "stm2 = lambda x,y,z:x+y*10 + z*100\n",
    "stm2(4,5,6)"
   ]
  },
  {
   "cell_type": "markdown",
   "metadata": {},
   "source": [
    "### 高阶函数\n",
    "- 把函数作为参数使用的函数，叫做高阶函数\n",
    "- "
   ]
  },
  {
   "cell_type": "code",
   "execution_count": 3,
   "metadata": {},
   "outputs": [],
   "source": [
    "# 变量可以赋值\n",
    "a = 100\n",
    "b = a"
   ]
  },
  {
   "cell_type": "code",
   "execution_count": 9,
   "metadata": {},
   "outputs": [
    {
     "name": "stdout",
     "output_type": "stream",
     "text": [
      "In funcA\n"
     ]
    }
   ],
   "source": [
    "# 函数名称就是一个变量\n",
    "def funA():\n",
    "    print(\"In funcA\")\n",
    "    \n",
    "funB = funA\n",
    "funB()"
   ]
  },
  {
   "cell_type": "markdown",
   "metadata": {},
   "source": [
    "### 以上代码得出的结论：\n",
    "- 函数名称就是变量\n",
    "- funB和funA只是名称不一样\n",
    "- 既然函数名称是变量，就可以当做参数传递"
   ]
  },
  {
   "cell_type": "code",
   "execution_count": 14,
   "metadata": {},
   "outputs": [
    {
     "name": "stdout",
     "output_type": "stream",
     "text": [
      "2700\n",
      "2700\n",
      "270\n"
     ]
    }
   ],
   "source": [
    "# 高阶函数举例\n",
    "def funA(n):\n",
    "    return 100 * n\n",
    "\n",
    "# 再写一个函数，吧传入的参数乘以300，利用高阶函数\n",
    "def funB(n):\n",
    "    return funA(n) * 3\n",
    "\n",
    "r = funB(9)\n",
    "print(r)\n",
    "\n",
    "# 利用高阶函数来实现\n",
    "def funC(n,f):\n",
    "    return f(n) * 3\n",
    "\n",
    "r = funC(9,funA)\n",
    "print(r)\n",
    "\n",
    "# 比较 funC和funB，显然funC比funB更好，更加灵活和定制化\n",
    "\n",
    "def funD(n):\n",
    "    return n * 10\n",
    "\n",
    "# 需求变更，需要把n放大 10倍，此时funB无法实现\n",
    "\n",
    "print(funC(9,funD))"
   ]
  },
  {
   "cell_type": "markdown",
   "metadata": {},
   "source": [
    "# Python 内置的高阶函数\n",
    "\n",
    "## map 映射的意思\n",
    "    - 原来的意思就是映射，即把集合或者列表的元素，每个元素都按照一定的规则进行操作，生产一个新的列表或者集合\n",
    "    - map函数是系统提供的具有映射功能的函数，返回值是一个迭代对象\n",
    "## reduce \n",
    "## filter 过滤"
   ]
  },
  {
   "cell_type": "code",
   "execution_count": 28,
   "metadata": {},
   "outputs": [
    {
     "name": "stdout",
     "output_type": "stream",
     "text": [
      "[0, 1, 2, 3, 4, 5, 6, 7, 8, 9]\n",
      "[0, 10, 20, 30, 40, 50, 60, 70, 80, 90]\n",
      "<class 'map'>\n",
      "<map object at 0x1099b7470>\n",
      "0\n",
      "10\n",
      "20\n",
      "30\n",
      "40\n",
      "50\n",
      "60\n",
      "70\n",
      "80\n",
      "90\n",
      "[]\n"
     ]
    }
   ],
   "source": [
    "# map举例子\n",
    "# 需求：有一个列表，想对列表中的每个数乘以10\n",
    "\n",
    "# 普通方法\n",
    "l1 = [i for i in range(10)]\n",
    "print(l1)\n",
    "l2 = []\n",
    "for i in l1:\n",
    "    l2.append(i*10)\n",
    "print(l2)\n",
    "\n",
    "# map实现\n",
    "def mul_ten(n):\n",
    "    return n *10\n",
    "\n",
    "l3 = map(mul_ten,l1)\n",
    "\n",
    "# 注意，这里返回值的是map对象\n",
    "print(type(l3))\n",
    "print(l3)\n",
    "\n",
    "for i in l3:\n",
    "    print(i)\n",
    "    \n",
    "#     \n",
    "l4 = [i for i in l3]\n",
    "print(l4)"
   ]
  },
  {
   "cell_type": "markdown",
   "metadata": {},
   "source": [
    "### Reduce \n",
    "- 原意是归并，缩减\n",
    "- 把一个可迭代对象最后归并成一个结果\n",
    "- 对与函数参数要求：必须由两个参数，必须返回结果\n",
    "- reduce 需要导入functools包"
   ]
  },
  {
   "cell_type": "code",
   "execution_count": 29,
   "metadata": {},
   "outputs": [
    {
     "data": {
      "text/plain": [
       "15"
      ]
     },
     "execution_count": 29,
     "metadata": {},
     "output_type": "execute_result"
    }
   ],
   "source": [
    "# reduce 举例\n",
    "# 需求  reduce([1,2,3,4,5]) == f(f(f(f(1,2),3),4),5)\n",
    "from functools import reduce\n",
    "\n",
    "def add(x,y):\n",
    "    return x+y\n",
    "\n",
    "#  对与列表执行reduce操作\n",
    "reduce(add,[1,2,3,4,5])"
   ]
  },
  {
   "cell_type": "code",
   "execution_count": null,
   "metadata": {},
   "outputs": [],
   "source": []
  }
 ],
 "metadata": {
  "kernelspec": {
   "display_name": "Python 3",
   "language": "python",
   "name": "python3"
  },
  "language_info": {
   "codemirror_mode": {
    "name": "ipython",
    "version": 3
   },
   "file_extension": ".py",
   "mimetype": "text/x-python",
   "name": "python",
   "nbconvert_exporter": "python",
   "pygments_lexer": "ipython3",
   "version": "3.6.5"
  }
 },
 "nbformat": 4,
 "nbformat_minor": 2
}
