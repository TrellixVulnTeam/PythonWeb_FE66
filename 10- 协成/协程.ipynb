{
 "cells": [
  {
   "cell_type": "markdown",
   "metadata": {},
   "source": [
    "# 协程\n",
    "- 参考资料\n",
    "   - http://python.jobbole.com/86481\n",
    "   - http://python.jobbole.com/87310\n",
    "   - https://sementfault.com/a/1190000009781688\n",
    "   \n",
    "   ----"
   ]
  },
  {
   "cell_type": "markdown",
   "metadata": {},
   "source": [
    "# 迭代器\n",
    "   - 可迭代（Iterable）:直接作用于for循环的变量\n",
    "   - 迭代器（Iterator）:不但可以作用于for循环，还可以被next调用"
   ]
  },
  {
   "cell_type": "code",
   "execution_count": 2,
   "metadata": {},
   "outputs": [
    {
     "name": "stdout",
     "output_type": "stream",
     "text": [
      "0\n",
      "1\n",
      "2\n",
      "3\n",
      "4\n",
      "5\n",
      "6\n",
      "7\n",
      "8\n",
      "9\n"
     ]
    }
   ],
   "source": [
    "# 可迭代\n",
    "l = [i for i in range(10)]\n",
    "# l 是迭代对象\n",
    "for idx in l:\n",
    "    print(idx)\n",
    "    \n",
    "# range() 是一个迭代器\n",
    "for i in range(4):\n",
    "    print(i)"
   ]
  },
  {
   "cell_type": "code",
   "execution_count": 3,
   "metadata": {},
   "outputs": [
    {
     "data": {
      "text/plain": [
       "True"
      ]
     },
     "execution_count": 3,
     "metadata": {},
     "output_type": "execute_result"
    }
   ],
   "source": [
    "# isinstance 判断某个变量是否是一个实例\n",
    "\n",
    "# 判断是否可迭代\n",
    "from collections import Iterable\n",
    "\n",
    "l = [1,2,3]\n",
    "# 是否是可迭代对象\n",
    "isinstance(l,Iterable)"
   ]
  },
  {
   "cell_type": "code",
   "execution_count": 4,
   "metadata": {},
   "outputs": [
    {
     "data": {
      "text/plain": [
       "False"
      ]
     },
     "execution_count": 4,
     "metadata": {},
     "output_type": "execute_result"
    }
   ],
   "source": [
    "from collections import Iterator\n",
    "# 是否是可迭代对象\n",
    "isinstance(l,Iterator)"
   ]
  },
  {
   "cell_type": "code",
   "execution_count": 7,
   "metadata": {},
   "outputs": [
    {
     "name": "stdout",
     "output_type": "stream",
     "text": [
      "True\n",
      "False\n",
      "True\n",
      "True\n"
     ]
    }
   ],
   "source": [
    "# 通过Iter函数 转换\n",
    "s = 'I am Marlon'\n",
    "\n",
    "print(isinstance(s,Iterable))\n",
    "print(isinstance(s,Iterator))\n",
    "\n",
    "# 转换成可迭代对象\n",
    "s_iter = iter(s)\n",
    "print(isinstance(s_iter,Iterable))\n",
    "print(isinstance(s_iter,Iterator))"
   ]
  },
  {
   "cell_type": "markdown",
   "metadata": {},
   "source": [
    "---\n",
    "\n",
    "# 生产器\n",
    "   - generator 一边循环，一边计算下一个元素的机制/算法\n",
    "   - 需要满足三个条件\n",
    "      - 每次调用都生产出一个for循环需要的下一个元素或者\n",
    "      - 如果达到了最后一个后，报出StopIteration异常\n",
    "      - 可以被next函数调用\n",
    "   - 如何生产一个generator\n",
    "      - 直接使用\n",
    "      - 如果函数中包含 yield，则这个函数就叫做生成器\n",
    "      - next 调用函数，遇到 yield返回"
   ]
  },
  {
   "cell_type": "code",
   "execution_count": 14,
   "metadata": {},
   "outputs": [
    {
     "name": "stdout",
     "output_type": "stream",
     "text": [
      "<class 'list'>\n",
      "<class 'generator'>\n"
     ]
    }
   ],
   "source": [
    "# 直接使用生成器\n",
    "\n",
    "# 这是列表对象\n",
    "L = [x*x for x in range(5)]\n",
    "print(type(L))\n",
    "\n",
    "# 这是一个列表生成器对象\n",
    "l =(x*x for x in range(5))\n",
    "print(type(l))"
   ]
  },
  {
   "cell_type": "code",
   "execution_count": 35,
   "metadata": {},
   "outputs": [
    {
     "name": "stdout",
     "output_type": "stream",
     "text": [
      "Step 1\n",
      "Step 2\n",
      "Step 3\n"
     ]
    }
   ],
   "source": [
    "# 包含 yield函数的生成器\n",
    "\n",
    "# normal \n",
    "def odd():\n",
    "    print(\"Step 1\")\n",
    "    print(\"Step 2\")\n",
    "    print(\"Step 3\")\n",
    "    return None\n",
    "odd()\n",
    "\n"
   ]
  },
  {
   "cell_type": "code",
   "execution_count": 38,
   "metadata": {},
   "outputs": [
    {
     "name": "stdout",
     "output_type": "stream",
     "text": [
      "Step 1\n",
      "1\n",
      "Step 2\n",
      "2\n",
      "Step 3\n",
      "3\n"
     ]
    }
   ],
   "source": [
    "# yield \n",
    "def odd1():\n",
    "    print(\"Step 1\")\n",
    "    yield 1\n",
    "    print(\"Step 2\")\n",
    "    yield 2\n",
    "    print(\"Step 3\")\n",
    "    yield 3\n",
    "\n",
    "g = odd1()\n",
    "\n",
    "# add() 是调用生成器 \n",
    "one = next(g)\n",
    "print(one)\n",
    "\n",
    "two = next(g)\n",
    "print(two)\n",
    "\n",
    "three = next(g)\n",
    "print(three)"
   ]
  },
  {
   "cell_type": "code",
   "execution_count": 42,
   "metadata": {},
   "outputs": [
    {
     "name": "stdout",
     "output_type": "stream",
     "text": [
      "1\n",
      "1\n",
      "2\n",
      "3\n",
      "5\n"
     ]
    },
    {
     "data": {
      "text/plain": [
       "'Done'"
      ]
     },
     "execution_count": 42,
     "metadata": {},
     "output_type": "execute_result"
    }
   ],
   "source": [
    "# for 循环调用生成器\n",
    "\n",
    "def fib(max):\n",
    "    n,a,b = 0,0,1\n",
    "    while n < max:\n",
    "        print(b)\n",
    "        a,b = b, a+b\n",
    "        n += 1\n",
    "    return 'Done'\n",
    "\n",
    "fib(5)"
   ]
  },
  {
   "cell_type": "code",
   "execution_count": 45,
   "metadata": {},
   "outputs": [
    {
     "name": "stdout",
     "output_type": "stream",
     "text": [
      "1\n",
      "1\n",
      "2\n",
      "3\n",
      "5\n"
     ]
    },
    {
     "ename": "StopIteration",
     "evalue": "Done",
     "output_type": "error",
     "traceback": [
      "\u001b[0;31m---------------------------------------------------------------------------\u001b[0m",
      "\u001b[0;31mStopIteration\u001b[0m                             Traceback (most recent call last)",
      "\u001b[0;32m<ipython-input-45-12b683a3e43c>\u001b[0m in \u001b[0;36m<module>\u001b[0;34m()\u001b[0m\n\u001b[1;32m     11\u001b[0m \u001b[0mge\u001b[0m \u001b[0;34m=\u001b[0m \u001b[0mfib2\u001b[0m\u001b[0;34m(\u001b[0m\u001b[0;36m5\u001b[0m\u001b[0;34m)\u001b[0m\u001b[0;34m\u001b[0m\u001b[0m\n\u001b[1;32m     12\u001b[0m \u001b[0;32mfor\u001b[0m \u001b[0mi\u001b[0m \u001b[0;32min\u001b[0m \u001b[0mrange\u001b[0m\u001b[0;34m(\u001b[0m\u001b[0;36m6\u001b[0m\u001b[0;34m)\u001b[0m\u001b[0;34m:\u001b[0m\u001b[0;34m\u001b[0m\u001b[0m\n\u001b[0;32m---> 13\u001b[0;31m     \u001b[0mr\u001b[0m \u001b[0;34m=\u001b[0m \u001b[0mnext\u001b[0m\u001b[0;34m(\u001b[0m\u001b[0mge\u001b[0m\u001b[0;34m)\u001b[0m\u001b[0;34m\u001b[0m\u001b[0m\n\u001b[0m\u001b[1;32m     14\u001b[0m     \u001b[0mprint\u001b[0m\u001b[0;34m(\u001b[0m\u001b[0mr\u001b[0m\u001b[0;34m)\u001b[0m\u001b[0;34m\u001b[0m\u001b[0m\n",
      "\u001b[0;31mStopIteration\u001b[0m: Done"
     ]
    }
   ],
   "source": [
    "# 斐波那契数列 的生成器写法\n",
    "\n",
    "def fib2(max):\n",
    "    n,a,b = 0,0,1\n",
    "    while n < max:\n",
    "        yield b\n",
    "        a,b = b, a+b\n",
    "        n += 1\n",
    "    return 'Done'\n",
    "\n",
    "ge = fib2(5)\n",
    "for i in range(6):\n",
    "    r = next(ge)\n",
    "    print(r)"
   ]
  },
  {
   "cell_type": "code",
   "execution_count": 46,
   "metadata": {},
   "outputs": [
    {
     "name": "stdout",
     "output_type": "stream",
     "text": [
      "1\n",
      "1\n",
      "2\n",
      "3\n",
      "5\n",
      "8\n",
      "13\n",
      "21\n",
      "34\n",
      "55\n"
     ]
    }
   ],
   "source": [
    "# yield写法2, 在循环中使用\n",
    "'''\n",
    "生成器的典型用法就是在for中使用\n",
    "比较常用的典型生成器，就是range\n",
    "'''\n",
    "g2 = fib2(10)\n",
    "for i in g2:\n",
    "    print(i)"
   ]
  },
  {
   "cell_type": "markdown",
   "metadata": {},
   "source": [
    "# 协程\n",
    "- 历史历程\n",
    "   - 3.4 引入协程，用yield实现\n",
    "   - 3.5 引入协程语法\n",
    "   - 实现卸程比较好的包有 asyncio,tornado,gevent\n",
    "- 定义：协程 是为了非抢占式多任务产生子程序的计算机程序组件，协程允许不用的入口点在不同的位置暂停或者开始执行程序\n",
    "- 从技术角度讲，协程就是一个你可以暂停执行的函数，或者干脆把协程理解成生成器\n",
    "- 协程的实现：\n",
    "   - yield 返回\n",
    "   - send 调用\n",
    "   \n",
    "- 协程的四个状态：\n",
    "   - inspect.getgeneratorstate(...)函数确定\n",
    "      1. GEN_CREATED:\n",
    "      2. GEN_RUNNING:\n",
    "      3. GEN_SUSPEND:\n",
    "      4. GEN_CLOSED:\n",
    "      - next 预激（prime）\n",
    "      - 代码案例\n",
    "- 协程的终止：\n",
    "   - 协程中未处理的异常会向上冒泡，传给next函数，或者send方法的调用方（即触发协程的对象）\n",
    "   - 终止协程的一种方式：发送某个哨符值，让协程退出，内置的None客Elliise等常量经常用做哨符值 \n",
    "   \n",
    "- yield from\n",
    "   - 调用协程是为了得到返回值，协程必须正常终止\n",
    "   - 生成器正常终止会发出StopIteration的异常，异常对象的value属性保存返回值\n",
    "   - yield from 从内部捕获StopIteration异常\n",
    "   - 案例 v03\n",
    "   - 委派生成器：\n",
    "      - 包含yield from表达式的生成器函数\n",
    "      - 委派生成器在yield from表达式处暂停，调用方可以直接把数据发送给子生成器\n",
    "      - 子生成器再把产出的值发送调用方\n",
    "      - 子生成器在最后，解释器会抛出 StopIteration异常,并把返回值给"
   ]
  },
  {
   "cell_type": "code",
   "execution_count": 49,
   "metadata": {},
   "outputs": [
    {
     "name": "stdout",
     "output_type": "stream",
     "text": [
      "1111\n",
      "-> start\n",
      "2222\n",
      "-> receved  marlon\n"
     ]
    },
    {
     "ename": "StopIteration",
     "evalue": "",
     "output_type": "error",
     "traceback": [
      "\u001b[0;31m---------------------------------------------------------------------------\u001b[0m",
      "\u001b[0;31mStopIteration\u001b[0m                             Traceback (most recent call last)",
      "\u001b[0;32m<ipython-input-49-9a49390a6fc1>\u001b[0m in \u001b[0;36m<module>\u001b[0;34m()\u001b[0m\n\u001b[1;32m     12\u001b[0m \u001b[0;34m\u001b[0m\u001b[0m\n\u001b[1;32m     13\u001b[0m \u001b[0;31m# 使用send也可以，x会受到该参数\u001b[0m\u001b[0;34m\u001b[0m\u001b[0;34m\u001b[0m\u001b[0m\n\u001b[0;32m---> 14\u001b[0;31m \u001b[0msc\u001b[0m\u001b[0;34m.\u001b[0m\u001b[0msend\u001b[0m\u001b[0;34m(\u001b[0m\u001b[0;34m'marlon'\u001b[0m\u001b[0;34m)\u001b[0m\u001b[0;34m\u001b[0m\u001b[0m\n\u001b[0m",
      "\u001b[0;31mStopIteration\u001b[0m: "
     ]
    }
   ],
   "source": [
    "# 协程代码的案例1\n",
    "def simple_coroutine():\n",
    "    print('-> start')\n",
    "    x = yield\n",
    "    print ('-> receved ',x)\n",
    "\n",
    "#   主线程\n",
    "sc = simple_coroutine()\n",
    "print(1111)\n",
    "\n",
    "next(sc) #预激\n",
    "print(2222)\n",
    "\n",
    "# 使用send也可以，x会受到该参数\n",
    "sc.send('marlon')"
   ]
  },
  {
   "cell_type": "code",
   "execution_count": 51,
   "metadata": {},
   "outputs": [
    {
     "name": "stdout",
     "output_type": "stream",
     "text": [
      "- > start\n",
      "5\n",
      "- > received  5 6\n",
      "11\n",
      "- > received  5 6 7\n",
      "18\n"
     ]
    }
   ],
   "source": [
    "# 协程状态的案例\n",
    "\n",
    "def simplle_coroutine2(a):\n",
    "    print('- > start')\n",
    "    b = yield a\n",
    "    print('- > received ',a,b)\n",
    "    \n",
    "    c = yield a+b\n",
    "    print(\"- > received \",a,b,c)\n",
    "    yield a+b+c\n",
    "\n",
    "sc = simplle_coroutine2(5)\n",
    "\n",
    "aa = next(sc)\n",
    "print(aa)\n",
    "\n",
    "bb = sc.send(6)\n",
    "print(bb)\n",
    "\n",
    "cc = sc.send(7)\n",
    "print(cc)"
   ]
  },
  {
   "cell_type": "code",
   "execution_count": 52,
   "metadata": {},
   "outputs": [
    {
     "name": "stdout",
     "output_type": "stream",
     "text": [
      "['A', 'B']\n",
      "['A', 'B']\n"
     ]
    }
   ],
   "source": [
    "# 案例 v03\n",
    "def gen():\n",
    "    for c in 'AB':\n",
    "        yield c\n",
    "\n",
    "print(list(gen()))\n",
    "\n",
    "def gen_new():\n",
    "    yield from 'AB'\n",
    "print(list(gen_new()))"
   ]
  },
  {
   "cell_type": "code",
   "execution_count": 56,
   "metadata": {},
   "outputs": [
    {
     "name": "stdout",
     "output_type": "stream",
     "text": [
      "{'boys_1': Res(count=9, average=41.31111111111111), 'boys_2': Res(count=9, average=1.3888888888888888)}\n"
     ]
    }
   ],
   "source": [
    "# 委派生成器的案例\n",
    "from collections import namedtuple\n",
    "\n",
    "\n",
    "'''\n",
    "解释：\n",
    "1 外出\n",
    "'''\n",
    "ResClass = namedtuple('Res','count average')\n",
    "\n",
    "# 子生成器\n",
    "def averager():\n",
    "    total = 0.0\n",
    "    count = 0\n",
    "    average = None\n",
    "    \n",
    "    while True:\n",
    "        term = yield\n",
    "        \n",
    "        if term is None:\n",
    "            break\n",
    "        total += term\n",
    "        count += 1\n",
    "        average = total/count\n",
    "    return ResClass(count,average)\n",
    "\n",
    "# 委派生成器\n",
    "def grouper(storages,key):\n",
    "    while True:\n",
    "#         获取averager()返回值\n",
    "        storages[key] = yield from averager()\n",
    "\n",
    "#  客户端代码\n",
    "def client():\n",
    "    process_data = {\n",
    "        'boys_1':[39.0,48.8,43.2,40.8,43.1,38.6,41.4,40.6,36.3],\n",
    "        'boys_2':[1.38,1.5,1.32,1.25,1.37,1.48,1.25,1.49,1.46]\n",
    "    }\n",
    "    \n",
    "    storages = {}\n",
    "    for k,v in process_data.items():\n",
    "        crountine = grouper(storages,k)\n",
    "        \n",
    "        next(crountine)\n",
    "        \n",
    "        for dt in v:\n",
    "            crountine.send(dt)\n",
    "        \n",
    "        crountine.send(None)\n",
    "    print(storages)\n",
    "\n",
    "#  run\n",
    "client()\n",
    "        "
   ]
  },
  {
   "cell_type": "code",
   "execution_count": null,
   "metadata": {},
   "outputs": [],
   "source": []
  }
 ],
 "metadata": {
  "kernelspec": {
   "display_name": "Python 3",
   "language": "python",
   "name": "python3"
  },
  "language_info": {
   "codemirror_mode": {
    "name": "ipython",
    "version": 3
   },
   "file_extension": ".py",
   "mimetype": "text/x-python",
   "name": "python",
   "nbconvert_exporter": "python",
   "pygments_lexer": "ipython3",
   "version": "3.6.5"
  }
 },
 "nbformat": 4,
 "nbformat_minor": 2
}
