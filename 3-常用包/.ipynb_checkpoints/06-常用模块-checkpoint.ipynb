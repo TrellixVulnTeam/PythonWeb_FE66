{
 "cells": [
  {
   "cell_type": "markdown",
   "metadata": {},
   "source": [
    "# 常用模块\n",
    "- calendar\n",
    "- time\n",
    "- datetime\n",
    "- timeit\n",
    "- os\n",
    "- shutil\n",
    "- zip\n",
    "- math\n",
    "- string\n",
    "\n",
    "上述模块在使用的时候先导入，string是特例"
   ]
  },
  {
   "cell_type": "markdown",
   "metadata": {},
   "source": [
    "#  calendar\n",
    "   - 跟日历相关的模块"
   ]
  },
  {
   "cell_type": "code",
   "execution_count": 1,
   "metadata": {},
   "outputs": [],
   "source": [
    "import calendar"
   ]
  },
  {
   "cell_type": "code",
   "execution_count": 10,
   "metadata": {},
   "outputs": [
    {
     "name": "stdout",
     "output_type": "stream",
     "text": [
      "<class 'str'>\n",
      "                                 2018\n",
      "\n",
      "      January                  February                  March\n",
      "Mo Tu We Th Fr Sa Su     Mo Tu We Th Fr Sa Su     Mo Tu We Th Fr Sa Su\n",
      " 1  2  3  4  5  6  7               1  2  3  4               1  2  3  4\n",
      " 8  9 10 11 12 13 14      5  6  7  8  9 10 11      5  6  7  8  9 10 11\n",
      "15 16 17 18 19 20 21     12 13 14 15 16 17 18     12 13 14 15 16 17 18\n",
      "22 23 24 25 26 27 28     19 20 21 22 23 24 25     19 20 21 22 23 24 25\n",
      "29 30 31                 26 27 28                 26 27 28 29 30 31\n",
      "\n",
      "       April                     May                      June\n",
      "Mo Tu We Th Fr Sa Su     Mo Tu We Th Fr Sa Su     Mo Tu We Th Fr Sa Su\n",
      "                   1         1  2  3  4  5  6                  1  2  3\n",
      " 2  3  4  5  6  7  8      7  8  9 10 11 12 13      4  5  6  7  8  9 10\n",
      " 9 10 11 12 13 14 15     14 15 16 17 18 19 20     11 12 13 14 15 16 17\n",
      "16 17 18 19 20 21 22     21 22 23 24 25 26 27     18 19 20 21 22 23 24\n",
      "23 24 25 26 27 28 29     28 29 30 31              25 26 27 28 29 30\n",
      "30\n",
      "\n",
      "        July                    August                 September\n",
      "Mo Tu We Th Fr Sa Su     Mo Tu We Th Fr Sa Su     Mo Tu We Th Fr Sa Su\n",
      "                   1            1  2  3  4  5                     1  2\n",
      " 2  3  4  5  6  7  8      6  7  8  9 10 11 12      3  4  5  6  7  8  9\n",
      " 9 10 11 12 13 14 15     13 14 15 16 17 18 19     10 11 12 13 14 15 16\n",
      "16 17 18 19 20 21 22     20 21 22 23 24 25 26     17 18 19 20 21 22 23\n",
      "23 24 25 26 27 28 29     27 28 29 30 31           24 25 26 27 28 29 30\n",
      "30 31\n",
      "\n",
      "      October                  November                 December\n",
      "Mo Tu We Th Fr Sa Su     Mo Tu We Th Fr Sa Su     Mo Tu We Th Fr Sa Su\n",
      " 1  2  3  4  5  6  7               1  2  3  4                     1  2\n",
      " 8  9 10 11 12 13 14      5  6  7  8  9 10 11      3  4  5  6  7  8  9\n",
      "15 16 17 18 19 20 21     12 13 14 15 16 17 18     10 11 12 13 14 15 16\n",
      "22 23 24 25 26 27 28     19 20 21 22 23 24 25     17 18 19 20 21 22 23\n",
      "29 30 31                 26 27 28 29 30           24 25 26 27 28 29 30\n",
      "                                                  31\n",
      "\n"
     ]
    }
   ],
   "source": [
    "# calendar:获取一年的日子字符串\n",
    "# w = 日期之间的间隔字符数\n",
    "# l = 每周所占用的函数\n",
    "# c =  每个月之间的间隔字符数\n",
    "\n",
    "cal = calendar.calendar(2018,c=5,l=0)\n",
    "print(type(cal))\n",
    "print(cal)"
   ]
  },
  {
   "cell_type": "code",
   "execution_count": 12,
   "metadata": {},
   "outputs": [
    {
     "data": {
      "text/plain": [
       "True"
      ]
     },
     "execution_count": 12,
     "metadata": {},
     "output_type": "execute_result"
    }
   ],
   "source": [
    "# isleap 是否闰年\n",
    "calendar.isleap(2000)"
   ]
  },
  {
   "cell_type": "code",
   "execution_count": 13,
   "metadata": {},
   "outputs": [
    {
     "name": "stdout",
     "output_type": "stream",
     "text": [
      "Help on function leapdays in module calendar:\n",
      "\n",
      "leapdays(y1, y2)\n",
      "    Return number of leap years in range [y1, y2).\n",
      "    Assume y1 <= y2.\n",
      "\n"
     ]
    }
   ],
   "source": [
    "help(calendar.leapdays)"
   ]
  },
  {
   "cell_type": "code",
   "execution_count": 14,
   "metadata": {},
   "outputs": [
    {
     "name": "stdout",
     "output_type": "stream",
     "text": [
      "(2, 31)\n"
     ]
    }
   ],
   "source": [
    "# month() 获取某个月的日历字符串\n",
    "# 格式：calendar.month(年，月)\n",
    "# 返回值：元祖（周几开始，总天数）\n",
    "# 注意，默认从0-6表示 周一到周天\n",
    "t= calendar.monthrange(2017,3)\n",
    "print(t)"
   ]
  },
  {
   "cell_type": "code",
   "execution_count": 15,
   "metadata": {},
   "outputs": [
    {
     "name": "stdout",
     "output_type": "stream",
     "text": [
      "[[0, 0, 0, 1, 2, 3, 4], [5, 6, 7, 8, 9, 10, 11], [12, 13, 14, 15, 16, 17, 18], [19, 20, 21, 22, 23, 24, 25], [26, 27, 28, 29, 30, 0, 0]]\n"
     ]
    }
   ],
   "source": [
    "t = calendar.monthcalendar(2018,11)\n",
    "print(t)"
   ]
  },
  {
   "cell_type": "code",
   "execution_count": 18,
   "metadata": {},
   "outputs": [
    {
     "name": "stdout",
     "output_type": "stream",
     "text": [
      "Help on method pryear in module calendar:\n",
      "\n",
      "pryear(theyear, w=0, l=0, c=6, m=3) method of calendar.TextCalendar instance\n",
      "    Print a year's calendar.\n",
      "\n"
     ]
    }
   ],
   "source": [
    "help(calendar.prcal)"
   ]
  },
  {
   "cell_type": "markdown",
   "metadata": {},
   "source": [
    "# time 模块\n",
    "### 时间戳\n",
    "   - 一个时间表示，根据不同语言，可以使证书或者浮点数\n",
    "   - 是从 1970-1-1 0：0：0到现在的经历的秒数\n",
    "   - 如果表示的时间是1970年以前或者太遥远的为了，可能出现异常\n",
    "   - 32 位操作系统能够支持到2038年\n",
    "   \n",
    " ## UTC时间\n",
    "     - 时间协调时间，以英国的格林尼治时间为参考\n",
    " ## 夏令时\n",
    " \n",
    " ### 时间元组\n",
    "     - 一个包含时间内容的普通元组"
   ]
  }
 ],
 "metadata": {
  "kernelspec": {
   "display_name": "Python 3",
   "language": "python",
   "name": "python3"
  },
  "language_info": {
   "codemirror_mode": {
    "name": "ipython",
    "version": 3
   },
   "file_extension": ".py",
   "mimetype": "text/x-python",
   "name": "python",
   "nbconvert_exporter": "python",
   "pygments_lexer": "ipython3",
   "version": "3.6.5"
  }
 },
 "nbformat": 4,
 "nbformat_minor": 2
}
