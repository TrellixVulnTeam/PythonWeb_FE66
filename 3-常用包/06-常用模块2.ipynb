{
 "cells": [
  {
   "cell_type": "markdown",
   "metadata": {},
   "source": [
    "# datetime.datetime 模块\n",
    "- 提供比较好用的时间而已\n",
    "- 类定义\n",
    "- 类方法\n",
    "- 实例方法"
   ]
  },
  {
   "cell_type": "markdown",
   "metadata": {},
   "source": [
    "# OS -操作系统模块\n",
    "- 跟操作系统相关，主要是文件操作\n",
    "- 与系统相关的操作，主要包含在三个模块了\n",
    "    - os ,操作系统目录相关\n",
    "    - os.path 系统路径相关操作\n",
    "    - shutil, 高级文件操作，目录树的操作，文件复制，删除，移动\n",
    "- 路径：\n",
    "    -  绝对路径：总是从根目录上开始\n",
    "    - 相对路径： 基本从当前环境开始的一个相对的地方"
   ]
  },
  {
   "cell_type": "code",
   "execution_count": 2,
   "metadata": {},
   "outputs": [
    {
     "name": "stdout",
     "output_type": "stream",
     "text": [
      "/Users/marlonleng/Python/PythonWeb/3-常用包\n"
     ]
    }
   ],
   "source": [
    "# getcwd()\n",
    "# 格式 os.getcwd()\n",
    "import os\n",
    "\n",
    "mydir = os.getcwd()\n",
    "print(mydir)"
   ]
  },
  {
   "cell_type": "code",
   "execution_count": 3,
   "metadata": {},
   "outputs": [
    {
     "name": "stdout",
     "output_type": "stream",
     "text": [
      "/Users/marlonleng/Python\n"
     ]
    }
   ],
   "source": [
    "#  chdir() 改变当前目录\n",
    "# change \n",
    "# 格式 os.chdir(路径)\n",
    "os.chdir('/Users/marlonleng/Python/')\n",
    "mydir = os.getcwd()\n",
    "print(mydir)"
   ]
  },
  {
   "cell_type": "code",
   "execution_count": 5,
   "metadata": {},
   "outputs": [
    {
     "name": "stdout",
     "output_type": "stream",
     "text": [
      "Help on built-in function listdir in module posix:\n",
      "\n",
      "listdir(path=None)\n",
      "    Return a list containing the names of the files in the directory.\n",
      "    \n",
      "    path can be specified as either str or bytes.  If path is bytes,\n",
      "      the filenames returned will also be bytes; in all other circumstances\n",
      "      the filenames returned will be str.\n",
      "    If path is None, uses the path='.'.\n",
      "    On some platforms, path may also be specified as an open file descriptor;\\\n",
      "      the file descriptor must refer to a directory.\n",
      "      If this functionality is unavailable, using it raises NotImplementedError.\n",
      "    \n",
      "    The list is in arbitrary order.  It does not include the special\n",
      "    entries '.' and '..' even if they are present in the directory.\n",
      "\n",
      "['.DS_Store', 'DeepLearning', 'learnPython', 'MachineLearning', '500lines', 'PythonWeb', 'python-patterns']\n"
     ]
    }
   ],
   "source": [
    "help(os.listdir)\n",
    "ld = os.listdir()\n",
    "print(ld)"
   ]
  },
  {
   "cell_type": "code",
   "execution_count": 6,
   "metadata": {},
   "outputs": [
    {
     "name": "stdout",
     "output_type": "stream",
     "text": [
      "/Users/marlonleng/Python\n",
      "None\n"
     ]
    }
   ],
   "source": [
    "# makedirs(name,mode=511,exist_ok=Fakse)\n",
    "print(os.getcwd())\n",
    "rst = os.makedirs('dana')\n",
    "print(rst)"
   ]
  },
  {
   "cell_type": "code",
   "execution_count": 8,
   "metadata": {},
   "outputs": [
    {
     "name": "stdout",
     "output_type": "stream",
     "text": [
      "0\n",
      "0\n"
     ]
    }
   ],
   "source": [
    "ret = os.system(\"ls\")\n",
    "print(ret)\n",
    "ret = os.system(\"touch mm.haha\")\n",
    "print(ret)"
   ]
  },
  {
   "cell_type": "code",
   "execution_count": 9,
   "metadata": {},
   "outputs": [
    {
     "name": "stdout",
     "output_type": "stream",
     "text": [
      "/Users/marlonleng/.rvm/gems/ruby-2.2.4/bin:/Users/marlonleng/.rvm/gems/ruby-2.2.4@global/bin:/Users/marlonleng/.rvm/rubies/ruby-2.2.4/bin:/usr/local/bin:/usr/bin:/bin:/usr/sbin:/sbin:/Users/marlonleng/.rvm/bin\n"
     ]
    }
   ],
   "source": [
    "# getenv() 获取指定的系统环境变量\n",
    "# 格式 os.getenv(''环境变量名)\n",
    "# 返回值 ：指定环境变量名对应的值\n",
    "rst = os.getenv('PATH')\n",
    "print(rst)"
   ]
  },
  {
   "cell_type": "markdown",
   "metadata": {},
   "source": [
    "# 值部分\n",
    "    - os.curdir: current dir   当前目录\n",
    "    - os.pardir     父目录\n",
    "    - os.sep      系统的路径分隔符\n",
    "    - os.linesep   当前系统的换行符号\n",
    "        - window ：\"\\r\\n\"\n",
    "        - unix,linux,macos :\"\\n\"\n",
    "    - os.name   当前系统名称"
   ]
  },
  {
   "cell_type": "code",
   "execution_count": 13,
   "metadata": {},
   "outputs": [
    {
     "name": "stdout",
     "output_type": "stream",
     "text": [
      ".\n",
      "..\n",
      "/\n",
      "\n",
      "\n",
      "posix\n"
     ]
    }
   ],
   "source": [
    "print(os.curdir)\n",
    "print(os.pardir)\n",
    "\n",
    "print(os.sep)\n",
    "print(os.linesep)\n",
    "print(os.name)"
   ]
  },
  {
   "cell_type": "markdown",
   "metadata": {},
   "source": [
    "# os.path 模块，根路径相关的操作"
   ]
  },
  {
   "cell_type": "code",
   "execution_count": 17,
   "metadata": {},
   "outputs": [
    {
     "name": "stdout",
     "output_type": "stream",
     "text": [
      "/Users/marlonleng/Python\n",
      "mm.haha\n"
     ]
    }
   ],
   "source": [
    "#  - abspath()\n",
    "#  - absolute 绝对路径\n",
    "#  - 格式，OS.path.abspath()\n",
    "#  - 返回值，路径的绝对路径形式\n",
    "import os.path\n",
    "\n",
    "asbp = os.path.abspath(\".\")\n",
    "print(asbp)\n",
    "\n",
    "# basename（） 获取路径中的文件名名称\n",
    "# os.path.basename()\n",
    "# 返回值：组合之后的新路径字符串\n",
    "bn = os.path.basename(\"/Users/marlonleng/Python/mm.haha\")\n",
    "print(bn)"
   ]
  },
  {
   "cell_type": "code",
   "execution_count": 18,
   "metadata": {},
   "outputs": [
    {
     "name": "stdout",
     "output_type": "stream",
     "text": [
      "('/Users/marlonleng/Python', 'mm.hh')\n"
     ]
    }
   ],
   "source": [
    "# split() 将路径切割成文件夹部分和当前文件部分\n",
    "# os.path.split(路径)\n",
    "# 返回元组\n",
    "t = os.path.split(\"/Users/marlonleng/Python/mm.hh\")\n",
    "print(t)"
   ]
  },
  {
   "cell_type": "code",
   "execution_count": 19,
   "metadata": {},
   "outputs": [
    {
     "name": "stdout",
     "output_type": "stream",
     "text": [
      "/Users/marlonleng/Python\n",
      "mm.hh\n"
     ]
    }
   ],
   "source": [
    "dir_path,file_name = t\n",
    "print(dir_path)\n",
    "print(file_name)"
   ]
  },
  {
   "cell_type": "code",
   "execution_count": 22,
   "metadata": {},
   "outputs": [
    {
     "name": "stdout",
     "output_type": "stream",
     "text": [
      "True\n",
      "True\n"
     ]
    }
   ],
   "source": [
    "# os.path.isdir() 是不是目录\n",
    "r = os.path.isdir(\"/Users/marlonleng/Python\")\n",
    "print(r)\n",
    "# os.path.exists() 是否存在\n",
    "r = os.path.exists(\"/Users\")\n",
    "print(r)\n",
    "# \n"
   ]
  },
  {
   "cell_type": "markdown",
   "metadata": {},
   "source": [
    "# Shutil 模块"
   ]
  },
  {
   "cell_type": "code",
   "execution_count": 25,
   "metadata": {},
   "outputs": [],
   "source": [
    "# copy 复制文件\n",
    "#  shutil.copy(来源路径，目标路径)\n",
    "# 返回值，返回目标路径\n",
    "import shutil"
   ]
  },
  {
   "cell_type": "code",
   "execution_count": 26,
   "metadata": {},
   "outputs": [
    {
     "name": "stdout",
     "output_type": "stream",
     "text": [
      "Help on function copyfile in module shutil:\n",
      "\n",
      "copyfile(src, dst, *, follow_symlinks=True)\n",
      "    Copy data from src to dst.\n",
      "    \n",
      "    If follow_symlinks is not set and src is a symbolic link, a new\n",
      "    symlink will be created instead of copying the file it points to.\n",
      "\n"
     ]
    }
   ],
   "source": [
    "# copyfile() 拷贝文件内容\n",
    "help(shutil.copyfile)"
   ]
  },
  {
   "cell_type": "code",
   "execution_count": null,
   "metadata": {},
   "outputs": [],
   "source": [
    "# move() //移动\n",
    "# make_archive() 归档 \n"
   ]
  },
  {
   "cell_type": "markdown",
   "metadata": {},
   "source": [
    "# ZipFile 模块"
   ]
  },
  {
   "cell_type": "code",
   "execution_count": null,
   "metadata": {},
   "outputs": [],
   "source": []
  }
 ],
 "metadata": {
  "kernelspec": {
   "display_name": "Python 3",
   "language": "python",
   "name": "python3"
  },
  "language_info": {
   "codemirror_mode": {
    "name": "ipython",
    "version": 3
   },
   "file_extension": ".py",
   "mimetype": "text/x-python",
   "name": "python",
   "nbconvert_exporter": "python",
   "pygments_lexer": "ipython3",
   "version": "3.6.5"
  }
 },
 "nbformat": 4,
 "nbformat_minor": 2
}
