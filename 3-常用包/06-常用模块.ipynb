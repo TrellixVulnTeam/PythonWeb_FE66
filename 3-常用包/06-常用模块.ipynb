{
 "cells": [
  {
   "cell_type": "markdown",
   "metadata": {},
   "source": [
    "# 常用模块\n",
    "- calendar\n",
    "- time\n",
    "- datetime\n",
    "- timeit\n",
    "- os\n",
    "- shutil\n",
    "- zip\n",
    "- math\n",
    "- string\n",
    "\n",
    "上述模块在使用的时候先导入，string是特例"
   ]
  },
  {
   "cell_type": "markdown",
   "metadata": {},
   "source": [
    "#  calendar\n",
    "   - 跟日历相关的模块"
   ]
  },
  {
   "cell_type": "code",
   "execution_count": 1,
   "metadata": {},
   "outputs": [],
   "source": [
    "import calendar"
   ]
  },
  {
   "cell_type": "code",
   "execution_count": 10,
   "metadata": {},
   "outputs": [
    {
     "name": "stdout",
     "output_type": "stream",
     "text": [
      "<class 'str'>\n",
      "                                 2018\n",
      "\n",
      "      January                  February                  March\n",
      "Mo Tu We Th Fr Sa Su     Mo Tu We Th Fr Sa Su     Mo Tu We Th Fr Sa Su\n",
      " 1  2  3  4  5  6  7               1  2  3  4               1  2  3  4\n",
      " 8  9 10 11 12 13 14      5  6  7  8  9 10 11      5  6  7  8  9 10 11\n",
      "15 16 17 18 19 20 21     12 13 14 15 16 17 18     12 13 14 15 16 17 18\n",
      "22 23 24 25 26 27 28     19 20 21 22 23 24 25     19 20 21 22 23 24 25\n",
      "29 30 31                 26 27 28                 26 27 28 29 30 31\n",
      "\n",
      "       April                     May                      June\n",
      "Mo Tu We Th Fr Sa Su     Mo Tu We Th Fr Sa Su     Mo Tu We Th Fr Sa Su\n",
      "                   1         1  2  3  4  5  6                  1  2  3\n",
      " 2  3  4  5  6  7  8      7  8  9 10 11 12 13      4  5  6  7  8  9 10\n",
      " 9 10 11 12 13 14 15     14 15 16 17 18 19 20     11 12 13 14 15 16 17\n",
      "16 17 18 19 20 21 22     21 22 23 24 25 26 27     18 19 20 21 22 23 24\n",
      "23 24 25 26 27 28 29     28 29 30 31              25 26 27 28 29 30\n",
      "30\n",
      "\n",
      "        July                    August                 September\n",
      "Mo Tu We Th Fr Sa Su     Mo Tu We Th Fr Sa Su     Mo Tu We Th Fr Sa Su\n",
      "                   1            1  2  3  4  5                     1  2\n",
      " 2  3  4  5  6  7  8      6  7  8  9 10 11 12      3  4  5  6  7  8  9\n",
      " 9 10 11 12 13 14 15     13 14 15 16 17 18 19     10 11 12 13 14 15 16\n",
      "16 17 18 19 20 21 22     20 21 22 23 24 25 26     17 18 19 20 21 22 23\n",
      "23 24 25 26 27 28 29     27 28 29 30 31           24 25 26 27 28 29 30\n",
      "30 31\n",
      "\n",
      "      October                  November                 December\n",
      "Mo Tu We Th Fr Sa Su     Mo Tu We Th Fr Sa Su     Mo Tu We Th Fr Sa Su\n",
      " 1  2  3  4  5  6  7               1  2  3  4                     1  2\n",
      " 8  9 10 11 12 13 14      5  6  7  8  9 10 11      3  4  5  6  7  8  9\n",
      "15 16 17 18 19 20 21     12 13 14 15 16 17 18     10 11 12 13 14 15 16\n",
      "22 23 24 25 26 27 28     19 20 21 22 23 24 25     17 18 19 20 21 22 23\n",
      "29 30 31                 26 27 28 29 30           24 25 26 27 28 29 30\n",
      "                                                  31\n",
      "\n"
     ]
    }
   ],
   "source": [
    "# calendar:获取一年的日子字符串\n",
    "# w = 日期之间的间隔字符数\n",
    "# l = 每周所占用的函数\n",
    "# c =  每个月之间的间隔字符数\n",
    "\n",
    "cal = calendar.calendar(2018,c=5,l=0)\n",
    "print(type(cal))\n",
    "print(cal)"
   ]
  },
  {
   "cell_type": "code",
   "execution_count": 12,
   "metadata": {},
   "outputs": [
    {
     "data": {
      "text/plain": [
       "True"
      ]
     },
     "execution_count": 12,
     "metadata": {},
     "output_type": "execute_result"
    }
   ],
   "source": [
    "# isleap 是否闰年\n",
    "calendar.isleap(2000)"
   ]
  },
  {
   "cell_type": "code",
   "execution_count": 13,
   "metadata": {},
   "outputs": [
    {
     "name": "stdout",
     "output_type": "stream",
     "text": [
      "Help on function leapdays in module calendar:\n",
      "\n",
      "leapdays(y1, y2)\n",
      "    Return number of leap years in range [y1, y2).\n",
      "    Assume y1 <= y2.\n",
      "\n"
     ]
    }
   ],
   "source": [
    "help(calendar.leapdays)"
   ]
  },
  {
   "cell_type": "code",
   "execution_count": 14,
   "metadata": {},
   "outputs": [
    {
     "name": "stdout",
     "output_type": "stream",
     "text": [
      "(2, 31)\n"
     ]
    }
   ],
   "source": [
    "# month() 获取某个月的日历字符串\n",
    "# 格式：calendar.month(年，月)\n",
    "# 返回值：元祖（周几开始，总天数）\n",
    "# 注意，默认从0-6表示 周一到周天\n",
    "t= calendar.monthrange(2017,3)\n",
    "print(t)"
   ]
  },
  {
   "cell_type": "code",
   "execution_count": 15,
   "metadata": {},
   "outputs": [
    {
     "name": "stdout",
     "output_type": "stream",
     "text": [
      "[[0, 0, 0, 1, 2, 3, 4], [5, 6, 7, 8, 9, 10, 11], [12, 13, 14, 15, 16, 17, 18], [19, 20, 21, 22, 23, 24, 25], [26, 27, 28, 29, 30, 0, 0]]\n"
     ]
    }
   ],
   "source": [
    "t = calendar.monthcalendar(2018,11)\n",
    "print(t)"
   ]
  },
  {
   "cell_type": "code",
   "execution_count": 18,
   "metadata": {},
   "outputs": [
    {
     "name": "stdout",
     "output_type": "stream",
     "text": [
      "Help on method pryear in module calendar:\n",
      "\n",
      "pryear(theyear, w=0, l=0, c=6, m=3) method of calendar.TextCalendar instance\n",
      "    Print a year's calendar.\n",
      "\n"
     ]
    }
   ],
   "source": [
    "help(calendar.prcal)"
   ]
  },
  {
   "cell_type": "markdown",
   "metadata": {},
   "source": [
    "# time 模块\n",
    "### 时间戳\n",
    "   - 一个时间表示，根据不同语言，可以使证书或者浮点数\n",
    "   - 是从 1970-1-1 0：0：0到现在的经历的秒数\n",
    "   - 如果表示的时间是1970年以前或者太遥远的为了，可能出现异常\n",
    "   - 32 位操作系统能够支持到2038年\n",
    "   \n",
    " ## UTC时间\n",
    "     - 时间协调时间，以英国的格林尼治时间为参考\n",
    " ## 夏令时\n",
    " \n",
    " ### 时间元组\n",
    "     - 一个包含时间内容的普通元组"
   ]
  },
  {
   "cell_type": "code",
   "execution_count": 2,
   "metadata": {},
   "outputs": [],
   "source": [
    "# 需要单独导入 \n",
    "import time"
   ]
  },
  {
   "cell_type": "code",
   "execution_count": 5,
   "metadata": {},
   "outputs": [
    {
     "name": "stdout",
     "output_type": "stream",
     "text": [
      "-28800\n",
      "-28800\n",
      "1543215398.1051269\n"
     ]
    }
   ],
   "source": [
    "# 时间模块的属性\n",
    "# timezone 当前时区和UTC时间的相差的秒数\n",
    "# altzone 获取当前时区和utc时间相差的秒数\n",
    "\n",
    "print(time.timezone)\n",
    "print(time.altzone)\n",
    "print(time.time())"
   ]
  },
  {
   "cell_type": "code",
   "execution_count": 9,
   "metadata": {},
   "outputs": [
    {
     "name": "stdout",
     "output_type": "stream",
     "text": [
      "time.struct_time(tm_year=2018, tm_mon=11, tm_mday=26, tm_hour=14, tm_min=58, tm_sec=57, tm_wday=0, tm_yday=330, tm_isdst=0)\n"
     ]
    }
   ],
   "source": [
    "# localtime 得到当前时间的时间结构\n",
    "t= time.localtime()\n",
    "\n",
    "print(time.localtime())"
   ]
  },
  {
   "cell_type": "code",
   "execution_count": 12,
   "metadata": {},
   "outputs": [
    {
     "name": "stdout",
     "output_type": "stream",
     "text": [
      "<class 'str'>\n",
      "Mon Nov 26 14:58:57 2018\n"
     ]
    }
   ],
   "source": [
    "# asctime 返回元祖的正常字符串化之后的时间格式\n",
    "tt = time.asctime(t)\n",
    "print(type(tt))\n",
    "print(tt)"
   ]
  },
  {
   "cell_type": "code",
   "execution_count": 13,
   "metadata": {},
   "outputs": [
    {
     "name": "stdout",
     "output_type": "stream",
     "text": [
      "Mon Nov 26 15:00:10 2018\n"
     ]
    }
   ],
   "source": [
    "# ctime: 获取字符串化的当前时间\n",
    "t = time.ctime()\n",
    "print(t)"
   ]
  },
  {
   "cell_type": "code",
   "execution_count": 14,
   "metadata": {},
   "outputs": [
    {
     "name": "stdout",
     "output_type": "stream",
     "text": [
      "<class 'float'>\n",
      "1543215682.0\n"
     ]
    }
   ],
   "source": [
    "# mktime() 使用时间元祖获取对应的时间戳\n",
    "lt = time.localtime()\n",
    "ts = time.mktime(lt)\n",
    "print(type(ts))\n",
    "print(ts)"
   ]
  },
  {
   "cell_type": "code",
   "execution_count": 15,
   "metadata": {},
   "outputs": [],
   "source": [
    "# clock 获取cpu时间，3.0和3.3版本直接使用 3.6调用有问题"
   ]
  },
  {
   "cell_type": "code",
   "execution_count": 19,
   "metadata": {},
   "outputs": [
    {
     "name": "stdout",
     "output_type": "stream",
     "text": [
      "0\n",
      "1\n",
      "2\n",
      "3\n",
      "4\n",
      "5\n",
      "6\n",
      "7\n",
      "8\n",
      "9\n"
     ]
    }
   ],
   "source": [
    "# sleep : 使程序进入睡眠，n秒之后继续\n",
    "for i in range(10):\n",
    "    print(i)\n",
    "    time.sleep(0.5)\n"
   ]
  },
  {
   "cell_type": "code",
   "execution_count": 20,
   "metadata": {},
   "outputs": [
    {
     "name": "stdout",
     "output_type": "stream",
     "text": [
      "0.0021780000000000133\n"
     ]
    }
   ],
   "source": [
    "def p():\n",
    "    time.sleep(2.5)\n",
    "t0 = time.clock()\n",
    "p()\n",
    "t1 = time.clock()\n",
    "print(t1-t0)"
   ]
  },
  {
   "cell_type": "code",
   "execution_count": 21,
   "metadata": {},
   "outputs": [
    {
     "name": "stdout",
     "output_type": "stream",
     "text": [
      "2018年11月26日 15:29\n"
     ]
    }
   ],
   "source": [
    "# striftime 将时间元祖转化成自定义的字符串格式\n",
    "# 把时间表示成 2018，3，26 21：05\n",
    "t = time.localtime()\n",
    "ft = time.strftime('%Y年%m月%d日 %H:%M',t)\n",
    "print(ft)"
   ]
  },
  {
   "cell_type": "markdown",
   "metadata": {},
   "source": [
    "\n",
    "# datetime 模块\n",
    "    - datatime 提供日期和时间的运算和表示\n",
    "    "
   ]
  },
  {
   "cell_type": "code",
   "execution_count": 23,
   "metadata": {},
   "outputs": [],
   "source": [
    "import datetime"
   ]
  },
  {
   "cell_type": "code",
   "execution_count": 30,
   "metadata": {},
   "outputs": [
    {
     "name": "stdout",
     "output_type": "stream",
     "text": [
      "2018-11-25\n"
     ]
    }
   ],
   "source": [
    "# datetime 常见属性\n",
    "# datetime .date 一个理想和的日期\n",
    "d = datetime.date(2018,11,25)\n",
    "print(d)"
   ]
  },
  {
   "cell_type": "code",
   "execution_count": 31,
   "metadata": {},
   "outputs": [
    {
     "name": "stdout",
     "output_type": "stream",
     "text": [
      "00:00:00\n"
     ]
    }
   ],
   "source": [
    "# datetime.time() ,年月日，时分秒\n",
    "t = datetime.time()\n",
    "print(t)"
   ]
  },
  {
   "cell_type": "code",
   "execution_count": 33,
   "metadata": {},
   "outputs": [
    {
     "name": "stdout",
     "output_type": "stream",
     "text": [
      "2018-11-26 15:40:06.920678\n",
      "2018-11-26 15:40:06.920890\n"
     ]
    }
   ],
   "source": [
    "from datetime import datetime\n",
    "# 常用类方法：\n",
    "# today\n",
    "# now\n",
    "# utcnow\n",
    "# fromtimestamp\n",
    "dt = datetime(2018,2,26)\n",
    "print(dt.today())\n",
    "print(dt.now())"
   ]
  },
  {
   "cell_type": "code",
   "execution_count": 35,
   "metadata": {},
   "outputs": [
    {
     "name": "stdout",
     "output_type": "stream",
     "text": [
      "2018-11-26 15:44:33\n",
      "2018-11-26 16:44:33\n"
     ]
    }
   ],
   "source": [
    "# datetime.timedelta\n",
    "# 表示一个时间间隔\n",
    "from datetime import datetime,timedelta\n",
    "t1 = datetime.now()\n",
    "print(t1.strftime('%Y-%m-%d %H:%M:%S'))\n",
    "td = timedelta(hours=1)\n",
    "print((t1+td).strftime('%Y-%m-%d %H:%M:%S'))"
   ]
  },
  {
   "cell_type": "code",
   "execution_count": 36,
   "metadata": {},
   "outputs": [
    {
     "name": "stdout",
     "output_type": "stream",
     "text": [
      "3.605037212371826\n"
     ]
    }
   ],
   "source": [
    "# timeit 时间测量工具\n",
    "def p():\n",
    "    time.sleep(3.6)\n",
    "t1 = time.time()\n",
    "p()\n",
    "print(time.time() - t1)"
   ]
  },
  {
   "cell_type": "code",
   "execution_count": 37,
   "metadata": {},
   "outputs": [
    {
     "name": "stdout",
     "output_type": "stream",
     "text": [
      "3.259687262998341\n"
     ]
    }
   ],
   "source": [
    "import timeit\n",
    "\n",
    "t1 = timeit.timeit(stmt='[i for i in range(1000)]',number=100000)\n",
    "print(t1)"
   ]
  },
  {
   "cell_type": "code",
   "execution_count": 39,
   "metadata": {
    "scrolled": true
   },
   "outputs": [
    {
     "name": "stdout",
     "output_type": "stream",
     "text": [
      "repeat for 0\n",
      "repeat for 1\n",
      "repeat for 2\n",
      "repeat for 0\n",
      "repeat for 1\n",
      "repeat for 2\n",
      "repeat for 0\n",
      "repeat for 1\n",
      "repeat for 2\n",
      "repeat for 0\n",
      "repeat for 1\n",
      "repeat for 2\n",
      "repeat for 0\n",
      "repeat for 1\n",
      "repeat for 2\n",
      "repeat for 0\n",
      "repeat for 1\n",
      "repeat for 2\n",
      "repeat for 0\n",
      "repeat for 1\n",
      "repeat for 2\n",
      "repeat for 0\n",
      "repeat for 1\n",
      "repeat for 2\n",
      "repeat for 0\n",
      "repeat for 1\n",
      "repeat for 2\n",
      "repeat for 0\n",
      "repeat for 1\n",
      "repeat for 2\n",
      "0.002029585997661343\n"
     ]
    }
   ],
   "source": [
    "def doIt(num):\n",
    "    for i in range(num):\n",
    "        print(\"repeat for {0}\".format(i))\n",
    "\n",
    "s = '''\n",
    "def doIt(num):\n",
    "     for i in range(num):\n",
    "         print(\"repeat for {0}\".format(i))\n",
    "'''\n",
    "t = timeit.timeit(\"doIt(num)\",number=10,setup=s+\"num=3\")\n",
    "print(t)"
   ]
  },
  {
   "cell_type": "code",
   "execution_count": null,
   "metadata": {},
   "outputs": [],
   "source": []
  }
 ],
 "metadata": {
  "kernelspec": {
   "display_name": "Python 3",
   "language": "python",
   "name": "python3"
  },
  "language_info": {
   "codemirror_mode": {
    "name": "ipython",
    "version": 3
   },
   "file_extension": ".py",
   "mimetype": "text/x-python",
   "name": "python",
   "nbconvert_exporter": "python",
   "pygments_lexer": "ipython3",
   "version": "3.6.5"
  }
 },
 "nbformat": 4,
 "nbformat_minor": 2
}
