{
 "cells": [
  {
   "cell_type": "markdown",
   "metadata": {},
   "source": [
    "# 异常\n",
    " - 广义上的错误分为错误和异常\n",
    " - 错误指的是可以人为避免的\n",
    " - 异常是指在语法逻辑正确的前提下，出现的问题\n",
    " - 在python里，异常是一个类，可以处理和使用\n",
    " "
   ]
  },
  {
   "cell_type": "markdown",
   "metadata": {},
   "source": [
    "# 异常的分类\n",
    " - AssertError 断言语句（assert）失败\n",
    " - AttributeError 尝试访问位置的对象属性\n",
    " - Syntax Or Python 的语法错误\n",
    " - TypeError  \n",
    " - IndexError: list index out of range\n",
    " - ..."
   ]
  },
  {
   "cell_type": "code",
   "execution_count": 3,
   "metadata": {
    "scrolled": true
   },
   "outputs": [
    {
     "ename": "IndexError",
     "evalue": "list index out of range",
     "output_type": "error",
     "traceback": [
      "\u001b[0;31m---------------------------------------------------------------------------\u001b[0m",
      "\u001b[0;31mIndexError\u001b[0m                                Traceback (most recent call last)",
      "\u001b[0;32m<ipython-input-3-f74016c2592d>\u001b[0m in \u001b[0;36m<module>\u001b[0;34m()\u001b[0m\n\u001b[1;32m      1\u001b[0m \u001b[0ml\u001b[0m \u001b[0;34m=\u001b[0m \u001b[0;34m[\u001b[0m\u001b[0;36m1\u001b[0m\u001b[0;34m,\u001b[0m\u001b[0;36m2\u001b[0m\u001b[0;34m,\u001b[0m\u001b[0;36m3\u001b[0m\u001b[0;34m,\u001b[0m\u001b[0;36m4\u001b[0m\u001b[0;34m,\u001b[0m\u001b[0;36m5\u001b[0m\u001b[0;34m]\u001b[0m\u001b[0;34m\u001b[0m\u001b[0m\n\u001b[0;32m----> 2\u001b[0;31m \u001b[0ml\u001b[0m\u001b[0;34m[\u001b[0m\u001b[0;36m10\u001b[0m\u001b[0;34m]\u001b[0m\u001b[0;34m\u001b[0m\u001b[0m\n\u001b[0m\u001b[1;32m      3\u001b[0m \u001b[0mnum\u001b[0m \u001b[0;34m=\u001b[0m \u001b[0mint\u001b[0m\u001b[0;34m(\u001b[0m\u001b[0minput\u001b[0m\u001b[0;34m(\u001b[0m\u001b[0;34m\"plz input your num\"\u001b[0m\u001b[0;34m)\u001b[0m\u001b[0;34m)\u001b[0m\u001b[0;34m\u001b[0m\u001b[0m\n\u001b[1;32m      4\u001b[0m \u001b[0mprint\u001b[0m\u001b[0;34m(\u001b[0m\u001b[0;36m100\u001b[0m\u001b[0;34m/\u001b[0m\u001b[0mnum\u001b[0m\u001b[0;34m)\u001b[0m\u001b[0;34m\u001b[0m\u001b[0m\n",
      "\u001b[0;31mIndexError\u001b[0m: list index out of range"
     ]
    }
   ],
   "source": [
    "l = [1,2,3,4,5]\n",
    "l[10]\n"
   ]
  },
  {
   "cell_type": "code",
   "execution_count": 1,
   "metadata": {},
   "outputs": [
    {
     "ename": "NameError",
     "evalue": "name 'printn' is not defined",
     "output_type": "error",
     "traceback": [
      "\u001b[0;31m---------------------------------------------------------------------------\u001b[0m",
      "\u001b[0;31mNameError\u001b[0m                                 Traceback (most recent call last)",
      "\u001b[0;32m<ipython-input-1-5613a8164908>\u001b[0m in \u001b[0;36m<module>\u001b[0;34m()\u001b[0m\n\u001b[0;32m----> 1\u001b[0;31m \u001b[0mprintn\u001b[0m\u001b[0;34m(\u001b[0m\u001b[0;34m\"hahaha\"\u001b[0m\u001b[0;34m)\u001b[0m\u001b[0;34m\u001b[0m\u001b[0m\n\u001b[0m",
      "\u001b[0;31mNameError\u001b[0m: name 'printn' is not defined"
     ]
    }
   ],
   "source": [
    "# 错误\n",
    "printn(\"hahaha\")"
   ]
  },
  {
   "cell_type": "code",
   "execution_count": 4,
   "metadata": {},
   "outputs": [
    {
     "name": "stdout",
     "output_type": "stream",
     "text": [
      "plz input your num0\n"
     ]
    },
    {
     "ename": "ZeroDivisionError",
     "evalue": "division by zero",
     "output_type": "error",
     "traceback": [
      "\u001b[0;31m---------------------------------------------------------------------------\u001b[0m",
      "\u001b[0;31mZeroDivisionError\u001b[0m                         Traceback (most recent call last)",
      "\u001b[0;32m<ipython-input-4-958fe7727972>\u001b[0m in \u001b[0;36m<module>\u001b[0;34m()\u001b[0m\n\u001b[1;32m      1\u001b[0m \u001b[0mnum\u001b[0m \u001b[0;34m=\u001b[0m \u001b[0mint\u001b[0m\u001b[0;34m(\u001b[0m\u001b[0minput\u001b[0m\u001b[0;34m(\u001b[0m\u001b[0;34m\"plz input your num\"\u001b[0m\u001b[0;34m)\u001b[0m\u001b[0;34m)\u001b[0m\u001b[0;34m\u001b[0m\u001b[0m\n\u001b[0;32m----> 2\u001b[0;31m \u001b[0mprint\u001b[0m\u001b[0;34m(\u001b[0m\u001b[0;36m100\u001b[0m\u001b[0;34m/\u001b[0m\u001b[0mnum\u001b[0m\u001b[0;34m)\u001b[0m\u001b[0;34m\u001b[0m\u001b[0m\n\u001b[0m",
      "\u001b[0;31mZeroDivisionError\u001b[0m: division by zero"
     ]
    }
   ],
   "source": [
    "num = int(input(\"plz input your num:\"))\n",
    "print(100/num)"
   ]
  },
  {
   "cell_type": "markdown",
   "metadata": {},
   "source": [
    "#  异常处理\n",
    "- 不能保证程序永远正确运行\n",
    "- 但是，必须保证程序在最坏的情况下得到的问题呗妥善处理\n",
    "- python的基本异常处理模块全部语法：\n",
    "    \n",
    "    try:\n",
    "        尝试执行某一个操作\n",
    "        如果没有出现异常，任务就可以完成\n",
    "        如果出现异常，将异常从当前代码中扔出去尝试解决异常\n",
    "        pass #\n",
    "    except Exception as e:\n",
    "        解决方案1\n",
    "        raise\n",
    "    except Exception as e2:\n",
    "        解决方案2\n",
    "        raise\n",
    "    except:\n",
    "        所有异常的解决方案\n",
    "    else:\n",
    "        如果没有任何异常，则会执行此处代码\n",
    "        pass\n",
    "    finally:\n",
    "        无论有没异常都要执行的代码\n",
    "        pass\n",
    " - 流程：\n",
    "     1 执行try下面的语句\n",
    "     2 如果出现异常，则在except里面去查找对应异常进行处理\n",
    "     3 如果没有异常，执行else下面的语句\n",
    "     4 最后，不管是否出现异常。执行finally语句\n",
    " - 除了except(最少一个),else和finally可选"
   ]
  },
  {
   "cell_type": "code",
   "execution_count": 1,
   "metadata": {},
   "outputs": [
    {
     "name": "stdout",
     "output_type": "stream",
     "text": [
      "plz input you number:0\n",
      "输入的有误啊，大哥\n"
     ]
    }
   ],
   "source": [
    "# 简单异常处理\n",
    "try:\n",
    "    num = int(input(\"plz input you number:\"))\n",
    "    rst = 100/num\n",
    "    print(\"计算结果是：{0}\".format(rst))\n",
    "except:\n",
    "    print(\"输入的有误啊，大哥\")\n",
    "    exit()"
   ]
  },
  {
   "cell_type": "code",
   "execution_count": 2,
   "metadata": {},
   "outputs": [
    {
     "name": "stdout",
     "output_type": "stream",
     "text": [
      "plz input you number:0\n",
      "输入的有误啊，大哥\n",
      "<class 'ZeroDivisionError'>\n",
      "division by zero\n"
     ]
    }
   ],
   "source": [
    "# 简单异常处理 2\n",
    "try:\n",
    "    num = int(input(\"plz input you number:\"))\n",
    "    rst = 100/num\n",
    "    print(\"计算结果是：{0}\".format(rst))\n",
    "# 捕获一个异常，把异常实例化，出错信息会在异常实例\n",
    "except ZeroDivisionError as e:\n",
    "    print(\"输入的有误啊，大哥\")\n",
    "    print(type(e))\n",
    "    print(e)"
   ]
  },
  {
   "cell_type": "code",
   "execution_count": 13,
   "metadata": {},
   "outputs": [
    {
     "name": "stdout",
     "output_type": "stream",
     "text": [
      "plz input you number:sdasd\n",
      "我也不知道出啥错了\n",
      "invalid literal for int() with base 10: 'sdasd'\n",
      "hahah\n"
     ]
    }
   ],
   "source": [
    "# 如果是多种error的情况\n",
    "# 越具体的错误，放前面\n",
    "# 越是子类的异常，越往前放\n",
    "try:\n",
    "    num = int(input(\"plz input you number:\"))\n",
    "    rst = 100/num\n",
    "    print(\"计算结果是：{0}\".format(rst))\n",
    "# 捕获一个异常，把异常实例化，出错信息会在异常实例\n",
    "# 在执行一个异常之后，如果有finally则执行finally,没有则跳出异常处理\n",
    "\n",
    "except ZeroDivisionError as e:\n",
    "    print(\"输入的有误啊，大哥\")\n",
    "    print(type(e))\n",
    "    print(e)\n",
    "except AttributeError as e:\n",
    "    print(e)\n",
    "except NameError as e:\n",
    "#     名称错误\n",
    "    print(e)\n",
    "except TypeError as e:\n",
    "#     拼写错误\n",
    "    print(e)\n",
    "except Exception as e:\n",
    "#     一定是最后一个异常，\n",
    "#     所有异常的父类\n",
    "#     我也不知道出啥错了\n",
    "    print(\"我也不知道出啥错了\")\n",
    "    print(e)\n",
    "    \n",
    "print(\"hahah\")"
   ]
  },
  {
   "cell_type": "markdown",
   "metadata": {},
   "source": [
    "---\n",
    "\n",
    "# 用户手动引发异常\n",
    "\n",
    "- 当某些情况，用户希望自己引发一个异常的时候，可以使用\n",
    "- raise 关键字来引发异常\n"
   ]
  },
  {
   "cell_type": "code",
   "execution_count": 15,
   "metadata": {},
   "outputs": [
    {
     "name": "stdout",
     "output_type": "stream",
     "text": [
      "我爱朱茵\n",
      "3.1415926\n",
      "ValueError\n",
      "我肯定会被执行的\n"
     ]
    }
   ],
   "source": [
    "# raise \n",
    "try:\n",
    "    print(\"我爱朱茵\")\n",
    "    print(3.1415926)\n",
    "#     手动引发异常\n",
    "#     注意语法 raise ErrorClassName\n",
    "    raise ValueError\n",
    "    print(\"还没完呢\")\n",
    "except NameError as e:\n",
    "    print(\"NameError\")\n",
    "except ValueError as e:\n",
    "    print(\"ValueError\")\n",
    "except Exception as e:\n",
    "    print(\"有异常\")\n",
    "finally :\n",
    "    print(\"我肯定会被执行的\")"
   ]
  },
  {
   "cell_type": "code",
   "execution_count": 20,
   "metadata": {},
   "outputs": [
    {
     "name": "stdout",
     "output_type": "stream",
     "text": [
      "我爱朱茵\n",
      "3.1415926\n",
      "ValueError\n",
      "我肯定会被执行的\n"
     ]
    }
   ],
   "source": [
    "# raise \n",
    "# 自己定义异常\n",
    "# 需要注意：自定义异常必须是系统异常的子类\n",
    "# \n",
    "\n",
    "class MarlonError(ValueError):\n",
    "    pass\n",
    "\n",
    "try:\n",
    "    print(\"我爱朱茵\")\n",
    "    print(3.1415926)\n",
    "#     手动引发异常\n",
    "#     注意语法 raise ErrorClassName\n",
    "    raise MarlonError\n",
    "    print(\"还没完呢\")\n",
    "except NameError as e:\n",
    "    print(\"NameError\")\n",
    "except MarlonError as e:\n",
    "    print(\"MarlonError\")\n",
    "except ValueError as e:\n",
    "    print(\"ValueError\")\n",
    "except Exception as e:\n",
    "    print(\"有异常\")\n",
    "finally :\n",
    "    print(\"我肯定会被执行的\")"
   ]
  },
  {
   "cell_type": "code",
   "execution_count": 24,
   "metadata": {},
   "outputs": [
    {
     "name": "stdout",
     "output_type": "stream",
     "text": [
      "Plz input your num:1\n",
      "计算结果是：100.0\n",
      "No Exception\n",
      "肯定被执行的\n"
     ]
    }
   ],
   "source": [
    "# else 语句案例\n",
    "try:\n",
    "    num = int(input(\"Plz input your num:\"))\n",
    "    ret = 100/num\n",
    "    print(\"计算结果是：{0}\".format(ret))\n",
    "except Exception as e:\n",
    "    print(\"Exception\")\n",
    "else:\n",
    "    print(\"No Exception\")\n",
    "finally:\n",
    "    print(\"肯定被执行的\")"
   ]
  },
  {
   "cell_type": "markdown",
   "metadata": {},
   "source": [
    "# 关于自定义异常\n",
    "- 只要是raise异常，则推荐自定义异常\n",
    "- 在自定义异常的时候，一般包含一下内容\n",
    "   - 自定义异常的异常代码\n",
    "   - 自定义异常的异常问题提示\n",
    "   - 自定义发送异常的行数\n",
    "- 最终的目的，一旦发送异常，方便程序员快递定位错误位置"
   ]
  },
  {
   "cell_type": "code",
   "execution_count": null,
   "metadata": {},
   "outputs": [],
   "source": []
  }
 ],
 "metadata": {
  "kernelspec": {
   "display_name": "Python 3",
   "language": "python",
   "name": "python3"
  },
  "language_info": {
   "codemirror_mode": {
    "name": "ipython",
    "version": 3
   },
   "file_extension": ".py",
   "mimetype": "text/x-python",
   "name": "python",
   "nbconvert_exporter": "python",
   "pygments_lexer": "ipython3",
   "version": "3.6.5"
  }
 },
 "nbformat": 4,
 "nbformat_minor": 2
}
