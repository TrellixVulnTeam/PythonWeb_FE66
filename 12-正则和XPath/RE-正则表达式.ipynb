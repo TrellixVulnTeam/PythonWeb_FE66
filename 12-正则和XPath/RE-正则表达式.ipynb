{
 "cells": [
  {
   "cell_type": "markdown",
   "metadata": {},
   "source": [
    "# RE的使用大致步骤\n",
    "1. 使用compile 将正则的字符串编译为一个pattern对象\n",
    "2. 通过pattern对象提供的一系列的方法，对文本进行查找和匹配，获得匹配结果，一个Match对象\n",
    "3. 最后使用Match对象提供的属性和方法，获取信息，根据需要进行操作\n",
    "\n",
    "---\n",
    "\n",
    "# Re常用函数\n",
    "- group():获取一个或者多个分组匹配的字符串，当要获得整个匹配的子串时，直接使用group或者group(0)\n",
    "- start:获取分组匹配的子串在整个字符串的起始位置，参数默认为 0\n",
    "- end:获取分组匹配的子串在整个字符串中的结束位置，默认为0\n",
    "- span：返回的结构技术，（start（group），end(group)）\n"
   ]
  },
  {
   "cell_type": "code",
   "execution_count": 5,
   "metadata": {},
   "outputs": [],
   "source": [
    "import re"
   ]
  },
  {
   "cell_type": "code",
   "execution_count": 10,
   "metadata": {},
   "outputs": [
    {
     "name": "stdout",
     "output_type": "stream",
     "text": [
      "<_sre.SRE_Match object; span=(3, 5), match='12'>\n"
     ]
    }
   ],
   "source": [
    "# 查找数字\n",
    "# r 表示字符串不转义，匹配至少出现一次的数字，\n",
    "p = re.compile(r'\\d+')\n",
    "m = p.match(\"one12towthre24343fout78\",3,26)\n",
    "# 返回 none表示没有找到\n",
    "print(m)"
   ]
  },
  {
   "cell_type": "code",
   "execution_count": 15,
   "metadata": {},
   "outputs": [
    {
     "name": "stdout",
     "output_type": "stream",
     "text": [
      "12\n",
      "3\n",
      "5\n"
     ]
    }
   ],
   "source": [
    "print(m[0])\n",
    "print(m.start(0))\n",
    "print(m.end(0))"
   ]
  },
  {
   "cell_type": "code",
   "execution_count": 18,
   "metadata": {},
   "outputs": [
    {
     "name": "stdout",
     "output_type": "stream",
     "text": [
      "<_sre.SRE_Match object; span=(0, 4), match='I am'>\n"
     ]
    }
   ],
   "source": [
    "import re\n",
    "\n",
    "# I 表示 忽略大小写\n",
    "p = re.compile(r'([a-z]+) ([a-z]+)',re.I)\n",
    "m = p.match(\"I am really love lvxiaobao\")\n",
    "\n",
    "print(m)\n",
    "\n"
   ]
  },
  {
   "cell_type": "code",
   "execution_count": 23,
   "metadata": {},
   "outputs": [
    {
     "name": "stdout",
     "output_type": "stream",
     "text": [
      "I am\n",
      "0 4\n"
     ]
    }
   ],
   "source": [
    "print(m.group(0))\n",
    "print(m.start(0), m.end(0))"
   ]
  },
  {
   "cell_type": "code",
   "execution_count": 25,
   "metadata": {},
   "outputs": [
    {
     "name": "stdout",
     "output_type": "stream",
     "text": [
      "I\n",
      "am\n"
     ]
    }
   ],
   "source": [
    "# 0 表示整个-1表示第一组 -2表示第二组\n",
    "print(m.group(1))\n",
    "print(m.group(2))"
   ]
  },
  {
   "cell_type": "code",
   "execution_count": 26,
   "metadata": {},
   "outputs": [
    {
     "name": "stdout",
     "output_type": "stream",
     "text": [
      "('I', 'am')\n"
     ]
    }
   ],
   "source": [
    "# 所有组的集合\n",
    "print(m.groups())"
   ]
  },
  {
   "cell_type": "markdown",
   "metadata": {},
   "source": [
    "# 查找\n",
    "- search(str,[,pos[,endpos]])：，在字符串中查找匹配，pos和endpos表示起始位置\n",
    "- findall:查找所有\n",
    "- finditer :查找，返回一个迭代器"
   ]
  },
  {
   "cell_type": "code",
   "execution_count": 28,
   "metadata": {},
   "outputs": [
    {
     "name": "stdout",
     "output_type": "stream",
     "text": [
      "12\n"
     ]
    }
   ],
   "source": [
    "import re\n",
    "\n",
    "p = re.compile(r'\\d+')\n",
    "\n",
    "m = p.search('one12two34three567four')\n",
    "\n",
    "print(m.group())"
   ]
  },
  {
   "cell_type": "code",
   "execution_count": 29,
   "metadata": {},
   "outputs": [
    {
     "name": "stdout",
     "output_type": "stream",
     "text": [
      "['12', '34', '567']\n"
     ]
    }
   ],
   "source": [
    "rst = p.findall('one12two34three567four')\n",
    "print(rst)"
   ]
  },
  {
   "cell_type": "code",
   "execution_count": 32,
   "metadata": {},
   "outputs": [
    {
     "name": "stdout",
     "output_type": "stream",
     "text": [
      "<class 'callable_iterator'>\n",
      "['12', '34', '567']\n"
     ]
    }
   ],
   "source": [
    "iterret = p.finditer('one12two34three567four')\n",
    "print(type(iterret))\n",
    "a = [x.group() for x in iterret]\n",
    "print(a)"
   ]
  },
  {
   "cell_type": "markdown",
   "metadata": {},
   "source": [
    "# sub 替换\n",
    " - sub(rep1,str[,count])"
   ]
  },
  {
   "cell_type": "code",
   "execution_count": 33,
   "metadata": {},
   "outputs": [
    {
     "name": "stdout",
     "output_type": "stream",
     "text": [
      "Hello world Hello world xiaojing, Hello world you\n"
     ]
    }
   ],
   "source": [
    "# sub替换的案例\n",
    "import re\n",
    "\n",
    "p = re.compile(r'(\\w+) (\\w+)')\n",
    "s = 'hello 123 wang 456 xiaojing, i love you'\n",
    "rst = p.sub(r'Hello world',s)\n",
    "print(rst)"
   ]
  },
  {
   "cell_type": "markdown",
   "metadata": {},
   "source": [
    "# 匹配中文\n",
    "- 中文表示范围是 [u4e00-u9fa6],不包括全角标点\n"
   ]
  },
  {
   "cell_type": "code",
   "execution_count": 35,
   "metadata": {},
   "outputs": [
    {
     "name": "stdout",
     "output_type": "stream",
     "text": [
      "['世界', '你好']\n"
     ]
    }
   ],
   "source": [
    "import re\n",
    "\n",
    "title = u'世界 你好，hello moto'\n",
    "\n",
    "p = re.compile(r'[\\u4e00-\\u9fa6]+')\n",
    "rst = p.findall(title)\n",
    "print(rst)"
   ]
  },
  {
   "cell_type": "markdown",
   "metadata": {},
   "source": [
    "# 贪婪和非贪婪\n",
    "- 贪婪：尽可能多的匹配 （*）表示贪婪匹配\n",
    "- 非贪婪：找到符合条件的最小内容即可，（？）表示非贪婪\n",
    "- 正则默认使用贪婪匹配\n"
   ]
  },
  {
   "cell_type": "code",
   "execution_count": 38,
   "metadata": {},
   "outputs": [
    {
     "name": "stdout",
     "output_type": "stream",
     "text": [
      "<div>name</div><div>age</div>\n"
     ]
    },
    {
     "ename": "AttributeError",
     "evalue": "'NoneType' object has no attribute 'group'",
     "output_type": "error",
     "traceback": [
      "\u001b[0;31m---------------------------------------------------------------------------\u001b[0m",
      "\u001b[0;31mAttributeError\u001b[0m                            Traceback (most recent call last)",
      "\u001b[0;32m<ipython-input-38-e3dd960e96ab>\u001b[0m in \u001b[0;36m<module>\u001b[0;34m()\u001b[0m\n\u001b[1;32m     11\u001b[0m \u001b[0;34m\u001b[0m\u001b[0m\n\u001b[1;32m     12\u001b[0m \u001b[0mprint\u001b[0m\u001b[0;34m(\u001b[0m\u001b[0mm1\u001b[0m\u001b[0;34m.\u001b[0m\u001b[0mgroup\u001b[0m\u001b[0;34m(\u001b[0m\u001b[0;34m)\u001b[0m\u001b[0;34m)\u001b[0m\u001b[0;34m\u001b[0m\u001b[0m\n\u001b[0;32m---> 13\u001b[0;31m \u001b[0mprint\u001b[0m\u001b[0;34m(\u001b[0m\u001b[0mm2\u001b[0m\u001b[0;34m.\u001b[0m\u001b[0mgroup\u001b[0m\u001b[0;34m(\u001b[0m\u001b[0;34m)\u001b[0m\u001b[0;34m)\u001b[0m\u001b[0;34m\u001b[0m\u001b[0m\n\u001b[0m",
      "\u001b[0;31mAttributeError\u001b[0m: 'NoneType' object has no attribute 'group'"
     ]
    }
   ],
   "source": [
    "\n",
    "import re\n",
    "\n",
    "title = u\"<div>name</div><div>age</div>\"\n",
    "\n",
    "p1 = re.compile(r'<div>.*</div>')\n",
    "p2 = re.compile(r'<div>.?</div>')\n",
    "\n",
    "m1 = p1.search(title)\n",
    "m2 = p2.search(title)\n",
    "\n",
    "print(m1.group())\n",
    "print(m2.group())"
   ]
  },
  {
   "cell_type": "code",
   "execution_count": null,
   "metadata": {},
   "outputs": [],
   "source": []
  }
 ],
 "metadata": {
  "kernelspec": {
   "display_name": "Python 3",
   "language": "python",
   "name": "python3"
  },
  "language_info": {
   "codemirror_mode": {
    "name": "ipython",
    "version": 3
   },
   "file_extension": ".py",
   "mimetype": "text/x-python",
   "name": "python",
   "nbconvert_exporter": "python",
   "pygments_lexer": "ipython3",
   "version": "3.6.5"
  }
 },
 "nbformat": 4,
 "nbformat_minor": 2
}
